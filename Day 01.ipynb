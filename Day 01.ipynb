{
 "cells": [
  {
   "cell_type": "code",
   "execution_count": 12,
   "metadata": {},
   "outputs": [],
   "source": [
    "import pandas as pd\n",
    "import requests\n",
    "import os\n",
    "import io\n",
    "\n",
    "Day = 1\n",
    "\n",
    "# get file from website using private session key stored in enviromental variables\n",
    "r = requests.get(\n",
    "            f'https://adventofcode.com/2023/day/'+str(Day)+'/input',\n",
    "            cookies={'session': os.getenv('AdventSessionKey')}\n",
    ")\n",
    "\n",
    "# read r.text into panda dataframe\n",
    "df = pd.read_table(io.StringIO(r.text), skip_blank_lines=False, names=['calories'])\n"
   ]
  },
  {
   "cell_type": "code",
   "execution_count": 13,
   "metadata": {},
   "outputs": [],
   "source": [
    "# REPLACE THIS CODE WITH 2023 code answer later\n",
    "\n",
    "# set up a helper column to identify blank rows\n",
    "# Cumulative sum becomes elf index, adding 1 at each blank row\n",
    "df['helper'] = df['calories'].isna()\n",
    "df['elf'] = df['helper'].cumsum()"
   ]
  },
  {
   "cell_type": "code",
   "execution_count": 14,
   "metadata": {},
   "outputs": [
    {
     "name": "stdout",
     "output_type": "stream",
     "text": [
      "Top Elf: 73211.0\n",
      "Sum of Top 3 Elves:  213958.0\n"
     ]
    }
   ],
   "source": [
    "# total each elf and get puzzle answers\n",
    "results = df.groupby(['elf'])['calories'].sum()\n",
    "\n",
    "print('Top Elf:', max(results))\n",
    "print('Sum of Top 3 Elves: ', sum(results.nlargest(3)))"
   ]
  }
 ],
 "metadata": {
  "kernelspec": {
   "display_name": "Python 3.9.12 ('base')",
   "language": "python",
   "name": "python3"
  },
  "language_info": {
   "codemirror_mode": {
    "name": "ipython",
    "version": 3
   },
   "file_extension": ".py",
   "mimetype": "text/x-python",
   "name": "python",
   "nbconvert_exporter": "python",
   "pygments_lexer": "ipython3",
   "version": "3.9.12"
  },
  "orig_nbformat": 4,
  "vscode": {
   "interpreter": {
    "hash": "df373f8daa4863e48189e3ee1b9bdcc41be48fbce57baf3694a1e9c77405ba32"
   }
  }
 },
 "nbformat": 4,
 "nbformat_minor": 2
}
