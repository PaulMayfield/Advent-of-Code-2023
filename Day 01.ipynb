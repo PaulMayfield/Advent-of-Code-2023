{
 "cells": [
  {
   "cell_type": "code",
   "execution_count": 6,
   "metadata": {},
   "outputs": [],
   "source": [
    "import pandas as pd\n",
    "import requests\n",
    "import os\n",
    "import io\n",
    "\n",
    "Day = 1\n",
    "\n",
    "# get file from website using private session key stored in enviromental variables\n",
    "r = requests.get(\n",
    "            f'https://adventofcode.com/2023/day/'+str(Day)+'/input',\n",
    "            cookies={'session': os.getenv('AdventSessionKey')}\n",
    ")\n",
    "\n",
    "# read r.text into panda dataframe\n",
    "df = pd.read_table(io.StringIO(r.text), names = ['calibration'])\n"
   ]
  },
  {
   "cell_type": "code",
   "execution_count": 8,
   "metadata": {},
   "outputs": [],
   "source": [
    "def find_first_and_last_digit(input_string):\n",
    "    first_digit = None\n",
    "    last_digit = None\n",
    "\n",
    "    for character in input_string:\n",
    "        if character.isdigit():\n",
    "            first_digit = int(character)\n",
    "            break\n",
    "\n",
    "    for character in reversed(input_string):\n",
    "        if character.isdigit():\n",
    "            last_digit = int(character)\n",
    "            break\n",
    "\n",
    "    if first_digit is not None and last_digit is not None:\n",
    "        return int(str(first_digit) + str(last_digit))\n",
    "    else:\n",
    "        return None\n"
   ]
  },
  {
   "cell_type": "code",
   "execution_count": 76,
   "metadata": {},
   "outputs": [
    {
     "data": {
      "text/plain": [
       "56465"
      ]
     },
     "execution_count": 76,
     "metadata": {},
     "output_type": "execute_result"
    }
   ],
   "source": [
    "# add a new column by applying the function to each item in the column\n",
    "df['first_and_last_digit'] = df['calibration'].apply(find_first_and_last_digit)\n",
    "\n",
    "# get puzzle answer\n",
    "df['first_and_last_digit'].sum()\n"
   ]
  },
  {
   "cell_type": "code",
   "execution_count": 80,
   "metadata": {},
   "outputs": [],
   "source": [
    "# Import the re module\n",
    "import re\n",
    "\n",
    "# Define the dictionary of word numbers and digits, including suffixes\n",
    "# adding the \"#\" numbers ensures that if the leftmost or rightmost number is already a digit, nothing else is converted instead\n",
    "word_nums = {\"0\": \"0\", \"1\": \"1\", \"2\": \"2\", \"3\": \"3\", \"4\": \"4\", \"5\": \"5\", \"6\": \"6\", \"7\": \"7\", \"8\": \"8\",  \"9\": \"9\",  \n",
    "            \"zero\": \"0\", \"one\": \"1\", \"two\": \"2\", \"three\": \"3\", \"four\": \"4\", \"five\": \"5\",\n",
    "            \"six\": \"6\", \"seven\": \"7\", \"eight\": \"8\", \"nine\": \"9\", \"ten\": \"10\", \"eleven\": \"11\",\n",
    "            \"twelve\": \"12\", \"thirteen\": \"13\", \"fourteen\": \"14\", \"fifteen\": \"15\", \"sixteen\": \"16\",\n",
    "            \"seventeen\": \"17\", \"eighteen\": \"18\", \"nineteen\": \"19\", \"twenty\": \"20\", \"thirty\": \"30\",\n",
    "            \"forty\": \"40\", \"fifty\": \"50\", \"sixty\": \"60\", \"seventy\": \"70\", \"eighty\": \"80\", \"ninety\": \"90\"}\n",
    "\n",
    "\n",
    "# Define a function that takes a tuple of span and word_num and returns a tuple of the index and the span length\n",
    "def key_func_min(t):\n",
    "    index = t[0][0]\n",
    "    length = t[0][1] - t[0][0]\n",
    "    return (-index, length)\n",
    "\n",
    "def key_func_max(t):\n",
    "    index = t[0][0]\n",
    "    length = t[0][1] - t[0][0]\n",
    "    return (index, length)\n",
    "\n",
    "\n",
    "# Define a function that takes a string and returns the converted string for the leftmost and rightmost replacement\n",
    "def convert_word_num(string):\n",
    "  \n",
    "  # Create an empty list to store the possible locations\n",
    "  locations = []\n",
    "  # Loop through the word numbers in the dictionary\n",
    "  for word_num in word_nums:\n",
    "    # Use a regular expression to find all the possible  word numbers substitutions\n",
    "    matches = re.finditer(word_num, string)\n",
    "  # Loop through the matches and append their spans to the list\n",
    "    for match in matches:\n",
    "        locations.append((match.span(), word_num))\n",
    "  \n",
    "  \n",
    "  if not locations:\n",
    "    new_string = string\n",
    "\n",
    "  else:\n",
    "\n",
    "    # Find the tuple with the maximum index and the longest span\n",
    "    max_tuple = max(locations, key=key_func_max)\n",
    "    \n",
    "    # Get the word_num and the digit associated with that index\n",
    "    loc_max = max_tuple[0][0]\n",
    "    end_max = max_tuple[0][1]\n",
    "    word_num_max = max_tuple[1]\n",
    "    digit_max = word_nums[word_num_max]\n",
    "    \n",
    "    new_string = string[:loc_max] + digit_max + string[end_max:]\n",
    "  \n",
    "    # Find the tuple with the minimum index and the longest span\n",
    "    min_tuple = max(locations, key=key_func_min)\n",
    "    \n",
    "    # Get the word_num and the digit associated with that index\n",
    "    loc_min = min_tuple[0][0]\n",
    "    end_min = min_tuple[0][1]\n",
    "    word_num_min = min_tuple[1]\n",
    "    digit_min = word_nums[word_num_min]\n",
    "    \n",
    "    new_string = new_string[:loc_min] + digit_min + new_string[end_min:]\n",
    "\n",
    "  return new_string\n"
   ]
  },
  {
   "cell_type": "code",
   "execution_count": 78,
   "metadata": {},
   "outputs": [],
   "source": [
    "# add a new column doing the word number conversion for part 2\n",
    "df['calibration_part2'] = df['calibration'].apply(convert_word_num)"
   ]
  },
  {
   "cell_type": "code",
   "execution_count": 79,
   "metadata": {},
   "outputs": [
    {
     "data": {
      "text/plain": [
       "55902"
      ]
     },
     "execution_count": 79,
     "metadata": {},
     "output_type": "execute_result"
    }
   ],
   "source": [
    "# add a new column by applying the function to each item in the column\n",
    "df['first_and_last_digit_part2'] = df['calibration_part2'].apply(find_first_and_last_digit)\n",
    "\n",
    "# get puzzle answer\n",
    "df['first_and_last_digit_part2'].sum()"
   ]
  }
 ],
 "metadata": {
  "kernelspec": {
   "display_name": "Python 3.9.12 ('base')",
   "language": "python",
   "name": "python3"
  },
  "language_info": {
   "codemirror_mode": {
    "name": "ipython",
    "version": 3
   },
   "file_extension": ".py",
   "mimetype": "text/x-python",
   "name": "python",
   "nbconvert_exporter": "python",
   "pygments_lexer": "ipython3",
   "version": "3.11.2"
  },
  "orig_nbformat": 4,
  "vscode": {
   "interpreter": {
    "hash": "df373f8daa4863e48189e3ee1b9bdcc41be48fbce57baf3694a1e9c77405ba32"
   }
  }
 },
 "nbformat": 4,
 "nbformat_minor": 2
}
