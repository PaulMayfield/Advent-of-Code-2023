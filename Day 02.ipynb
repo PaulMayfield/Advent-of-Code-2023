{
 "cells": [
  {
   "cell_type": "code",
   "execution_count": 2,
   "metadata": {},
   "outputs": [],
   "source": [
    "import pandas as pd\n",
    "import requests\n",
    "import os\n",
    "\n",
    "\n",
    "Day = 2\n",
    "\n",
    "# get file from website using private session key stored in enviromental variables\n",
    "r = requests.get(\n",
    "            f'https://adventofcode.com/2023/day/'+str(Day)+'/input',\n",
    "            cookies={'session': os.getenv('AdventSessionKey')}\n",
    ")\n",
    "\n",
    "# read r.text\n",
    "games = r.text.strip().split('\\n')\n"
   ]
  },
  {
   "cell_type": "code",
   "execution_count": 3,
   "metadata": {},
   "outputs": [],
   "source": [
    "\n",
    "data = []\n",
    "\n",
    "# Loop through each game in the list\n",
    "for game in games:\n",
    "    # Split the game by colon and get the game ID and the draws\n",
    "    game_id_str, draws = game.split(\":\")\n",
    "    # Strip any whitespace from the game ID\n",
    "    game_id = int(game_id_str.strip().replace('Game ',''))\n",
    "    # Split the draws by semicolon and create a list of draws\n",
    "    draws = draws.split(\";\")\n",
    "    # Loop through each draw in the list\n",
    "    for draw in draws:\n",
    "        # Strip any whitespace from the draw\n",
    "        draw = draw.strip()\n",
    "        # Initialize the counts of red, green, and blue cubes to zero\n",
    "        red = 0\n",
    "        green = 0\n",
    "        blue = 0\n",
    "        # Split the draw by comma and create a list of cubes\n",
    "        cubes = draw.split(\",\")\n",
    "        # Loop through each cube in the list\n",
    "        for cube in cubes:\n",
    "            # Strip any whitespace from the cube\n",
    "            cube = cube.strip()\n",
    "            # Get the color and the number of cubes of that color\n",
    "            number, color = cube.split()\n",
    "            # Convert the number to an integer\n",
    "            number = int(number)\n",
    "            # Update the counts of red, green, and blue cubes accordingly\n",
    "            if color == \"red\":\n",
    "                red = number\n",
    "            elif color == \"green\":\n",
    "                green = number\n",
    "            elif color == \"blue\":\n",
    "                blue = number\n",
    "        # Append a new row to the data frame with the game ID, draw, and counts of red, green, and blue cubes\n",
    "        data.append({\"game_id\": game_id, \"draw\": draw, \"red\": red, \"green\": green, \"blue\": blue})\n",
    "\n",
    "df = pd.DataFrame(data)\n",
    "\n"
   ]
  },
  {
   "cell_type": "code",
   "execution_count": 16,
   "metadata": {},
   "outputs": [
    {
     "data": {
      "text/plain": [
       "2632"
      ]
     },
     "execution_count": 16,
     "metadata": {},
     "output_type": "execute_result"
    }
   ],
   "source": [
    "# part 1, filter and sum directly\n",
    "\n",
    "# sum unique bad, subtract from total\n",
    "df['game_id'].unique().sum() - df.query('red > 12 | green > 13 | blue > 14')['game_id'].unique().sum()\n"
   ]
  },
  {
   "cell_type": "code",
   "execution_count": 6,
   "metadata": {},
   "outputs": [
    {
     "data": {
      "text/plain": [
       "69629"
      ]
     },
     "execution_count": 6,
     "metadata": {},
     "output_type": "execute_result"
    }
   ],
   "source": [
    "# part 2\n",
    "\n",
    "cube_power = df.groupby('game_id').agg({'red' : 'max', 'green' : 'max', 'blue' : 'max'})\n",
    "\n",
    "cube_power['power'] = cube_power['red'] * cube_power['green'] * cube_power['blue']\n",
    "\n",
    "cube_power['power'].sum()"
   ]
  }
 ],
 "metadata": {
  "kernelspec": {
   "display_name": "Python 3.9.12 ('base')",
   "language": "python",
   "name": "python3"
  },
  "language_info": {
   "codemirror_mode": {
    "name": "ipython",
    "version": 3
   },
   "file_extension": ".py",
   "mimetype": "text/x-python",
   "name": "python",
   "nbconvert_exporter": "python",
   "pygments_lexer": "ipython3",
   "version": "3.11.2"
  },
  "orig_nbformat": 4,
  "vscode": {
   "interpreter": {
    "hash": "df373f8daa4863e48189e3ee1b9bdcc41be48fbce57baf3694a1e9c77405ba32"
   }
  }
 },
 "nbformat": 4,
 "nbformat_minor": 2
}
