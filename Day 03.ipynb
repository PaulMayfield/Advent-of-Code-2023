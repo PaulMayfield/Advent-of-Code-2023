{
 "cells": [
  {
   "cell_type": "code",
   "execution_count": 24,
   "metadata": {},
   "outputs": [],
   "source": [
    "import requests\n",
    "import os\n",
    "\n",
    "Day = 3\n",
    "\n",
    "# get file from website using private session key stored in enviromental variables\n",
    "r = requests.get(\n",
    "            f'https://adventofcode.com/2023/day/'+str(Day)+'/input',\n",
    "            cookies={'session': os.getenv('AdventSessionKey')}\n",
    ")\n",
    "\n",
    "# read r.text\n",
    "lines = r.text.strip().split('\\n')\n"
   ]
  },
  {
   "cell_type": "code",
   "execution_count": 25,
   "metadata": {},
   "outputs": [
    {
     "name": "stdout",
     "output_type": "stream",
     "text": [
      "!\"#$%&'()*+,-/:;<=>?@[\\]^_`{|}~\n"
     ]
    }
   ],
   "source": [
    "# Generate list of the special characters but remove the period\n",
    "import string\n",
    "\n",
    "spec_chars = string.punctuation.replace('.','')\n",
    "print(spec_chars)\n"
   ]
  },
  {
   "cell_type": "code",
   "execution_count": 30,
   "metadata": {},
   "outputs": [
    {
     "name": "stdout",
     "output_type": "stream",
     "text": [
      "512794\n"
     ]
    }
   ],
   "source": [
    "# Initialize an empty list to store the number details\n",
    "number_details = []\n",
    "\n",
    "# Iterate over each line\n",
    "for row, line in enumerate(lines):\n",
    "    # Initialize variables to keep track of a number\n",
    "    number = ''\n",
    "    start_col = None\n",
    "    spec_char_flag = False\n",
    "\n",
    "    # Iterate over each character in the line\n",
    "    for col, char in enumerate(line):\n",
    "        # If the character is a digit, add it to the current number\n",
    "        if char.isdigit():\n",
    "            # if the first digit, mark the starting column\n",
    "            if not number:\n",
    "                start_col = col\n",
    "            number += char\n",
    "            #Check the surrounding characters for special characters\n",
    "            for dr in [-1, 0, 1]:\n",
    "                for dc in [-1, 0, 1]:\n",
    "                    if (0 <= row+dr < len(lines)\n",
    "                        and 0 <= col+dc < len(line)\n",
    "                        and lines[row+dr][col+dc] in spec_chars):\n",
    "                        spec_char_flag = True\n",
    "\n",
    "        # If the character is not a digit and there is a current number, store its details and reset the number\n",
    "        elif number:\n",
    "            number_details.append((start_col, row, len(number), number, spec_char_flag))\n",
    "            number = ''\n",
    "            start_col = None\n",
    "            spec_char_flag = False\n",
    "            \n",
    "    # If there is a number at the end of the line, store its details\n",
    "    if number:\n",
    "        number_details.append((start_col, row, len(number), number, spec_char_flag))\n",
    "\n",
    "# Print the number details\n",
    "#for details in number_details:\n",
    "#    print(f'Number {details[3]} starts at column {details[0]+1}, row {details[1]+1}, has a length of {details[2]}, '\n",
    "#          f'and {\"has\" if details[4] else \"does not have\"} a special character adjacent to it.')\n",
    "\n",
    "# Initialize a variable to store the sum\n",
    "sum_numbers = 0\n",
    "\n",
    "# Iterate over the number details\n",
    "for details in number_details:\n",
    "    # If the special character flag is True, add the number to the sum\n",
    "    if details[4]:\n",
    "        sum_numbers += int(details[3])\n",
    "\n",
    "print(sum_numbers)"
   ]
  }
 ],
 "metadata": {
  "kernelspec": {
   "display_name": "Python 3.9.12 ('base')",
   "language": "python",
   "name": "python3"
  },
  "language_info": {
   "codemirror_mode": {
    "name": "ipython",
    "version": 3
   },
   "file_extension": ".py",
   "mimetype": "text/x-python",
   "name": "python",
   "nbconvert_exporter": "python",
   "pygments_lexer": "ipython3",
   "version": "3.11.2"
  },
  "orig_nbformat": 4,
  "vscode": {
   "interpreter": {
    "hash": "df373f8daa4863e48189e3ee1b9bdcc41be48fbce57baf3694a1e9c77405ba32"
   }
  }
 },
 "nbformat": 4,
 "nbformat_minor": 2
}
