{
 "cells": [
  {
   "cell_type": "code",
   "execution_count": 8,
   "metadata": {},
   "outputs": [],
   "source": [
    "import pandas as pd\n",
    "import requests\n",
    "import io\n",
    "import os\n",
    "\n",
    "Day = 4\n",
    "\n",
    "# get file from website using private session key stored in enviromental variables\n",
    "r = requests.get(\n",
    "            f'https://adventofcode.com/2023/day/'+str(Day)+'/input',\n",
    "            cookies={'session': os.getenv('AdventSessionKey')}\n",
    ")\n",
    "\n",
    "# read r.text\n",
    "df = pd.read_table(io.StringIO(r.text), names = ['card'])\n"
   ]
  },
  {
   "cell_type": "code",
   "execution_count": 9,
   "metadata": {},
   "outputs": [],
   "source": [
    "# # run this code block to overwrite the data frame with the test case\n",
    "\n",
    "# test = (\"Card 1: 41 48 83 86 17 | 83 86  6 31 17  9 48 53 \\n\"\n",
    "#     \"Card 2: 13 32 20 16 61 | 61 30 68 82 17 32 24 19 \\n\"\n",
    "#     \"Card 3:  1 21 53 59 44 | 69 82 63 72 16 21 14  1 \\n\"\n",
    "#     \"Card 4: 41 92 73 84 69 | 59 84 76 51 58  5 54 83 \\n\"\n",
    "#     \"Card 5: 87 83 26 28 32 | 88 30 70 12 93 22 82 36 \\n\"\n",
    "#     \"Card 6: 31 18 13 56 72 | 74 77 10 23 35 67 36 11 \\n\")\n",
    "\n",
    "# df = pd.DataFrame(test.strip().split('\\n'), columns=['card'])"
   ]
  },
  {
   "cell_type": "code",
   "execution_count": 10,
   "metadata": {},
   "outputs": [],
   "source": [
    "# I guess I was supposed to count and score separately, so here is just counting\n",
    "\n",
    "def count_matching_numbers(card):\n",
    "    # Remove the part before the colon\n",
    "    card = card.split(\":\")[1].strip()\n",
    "\n",
    "    # Split the card data into two parts\n",
    "    left, right = card.split(\"|\")\n",
    "\n",
    "    # Convert the strings into lists of integers\n",
    "    left_numbers = list(map(int, left.split()))\n",
    "    right_numbers = list(map(int, right.split()))\n",
    "\n",
    "    # Find the intersection of the two lists\n",
    "    matching_numbers = set(left_numbers) & set(right_numbers)\n",
    "\n",
    "    # return the count of the matchgin numbers\n",
    "    return len(matching_numbers)"
   ]
  },
  {
   "cell_type": "code",
   "execution_count": 11,
   "metadata": {},
   "outputs": [],
   "source": [
    "def score_matching_numbers(count_matching_numbers):\n",
    "    \n",
    "    # convert the count into a score\n",
    "    if count_matching_numbers == 0:\n",
    "        score_matching_numbers = 0\n",
    "    else:\n",
    "        score_matching_numbers = 2 ** (count_matching_numbers - 1)\n",
    "\n",
    "    return score_matching_numbers\n"
   ]
  },
  {
   "cell_type": "code",
   "execution_count": 12,
   "metadata": {},
   "outputs": [
    {
     "data": {
      "text/plain": [
       "21088"
      ]
     },
     "execution_count": 12,
     "metadata": {},
     "output_type": "execute_result"
    }
   ],
   "source": [
    "# part 1\n",
    "\n",
    "# count number of matching numbers\n",
    "df['count_mathching_numbers'] = df['card'].apply(count_matching_numbers)\n",
    "\n",
    "# score and sum the scores\n",
    "df['count_mathching_numbers'].apply(score_matching_numbers).sum()\n"
   ]
  },
  {
   "cell_type": "code",
   "execution_count": 13,
   "metadata": {},
   "outputs": [
    {
     "data": {
      "text/plain": [
       "6874754"
      ]
     },
     "execution_count": 13,
     "metadata": {},
     "output_type": "execute_result"
    }
   ],
   "source": [
    "# Part 1\n",
    "\n",
    "# Initialize count of the individual cards\n",
    "df['card_count'] = 1\n",
    "\n",
    "# Iterate over the rows tracking how many copies of each card you get\n",
    "for i in range(len(df)):\n",
    "    # Get the current count of mathcing numbers\n",
    "    N = df.loc[i, 'count_mathching_numbers']\n",
    "    \n",
    "    # Add 1 to the next N rows, repeat for the number of copies\n",
    "    df.loc[i+1:i+N, 'card_count'] += 1 * df.loc[i, 'card_count']\n",
    "\n",
    "df['card_count'].sum()"
   ]
  }
 ],
 "metadata": {
  "kernelspec": {
   "display_name": "Python 3.9.12 ('base')",
   "language": "python",
   "name": "python3"
  },
  "language_info": {
   "codemirror_mode": {
    "name": "ipython",
    "version": 3
   },
   "file_extension": ".py",
   "mimetype": "text/x-python",
   "name": "python",
   "nbconvert_exporter": "python",
   "pygments_lexer": "ipython3",
   "version": "3.11.2"
  },
  "orig_nbformat": 4,
  "vscode": {
   "interpreter": {
    "hash": "df373f8daa4863e48189e3ee1b9bdcc41be48fbce57baf3694a1e9c77405ba32"
   }
  }
 },
 "nbformat": 4,
 "nbformat_minor": 2
}
