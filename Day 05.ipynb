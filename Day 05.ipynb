{
 "cells": [
  {
   "cell_type": "code",
   "execution_count": 13,
   "metadata": {},
   "outputs": [],
   "source": [
    "import requests\n",
    "import os\n",
    "\n",
    "Day = 5\n",
    "\n",
    "# get file from website using private session key stored in enviromental variables\n",
    "r = requests.get(\n",
    "            f'https://adventofcode.com/2023/day/'+str(Day)+'/input',\n",
    "            cookies={'session': os.getenv('AdventSessionKey')}\n",
    ")\n",
    "\n",
    "# read r.text\n",
    "data = r.text.strip()\n"
   ]
  },
  {
   "cell_type": "code",
   "execution_count": 14,
   "metadata": {},
   "outputs": [],
   "source": [
    "# Split the data into separate maps\n",
    "maps = data.strip().replace('seeds: ','seeds:\\n').split(\"\\n\\n\")\n",
    "\n",
    "# Initialize an empty dictionary to hold the tables\n",
    "tables = {}\n",
    "\n",
    "# Parse each map\n",
    "for map_data in maps:\n",
    "    # Split the map data into lines\n",
    "    lines = map_data.split(\"\\n\")\n",
    "    \n",
    "    # The map name is the first line\n",
    "    map_name = lines[0]\n",
    "    \n",
    "    # The map entries are the remaining lines\n",
    "    map_entries = lines[1:]\n",
    "    \n",
    "    # Parse each entry into a tuple of integers\n",
    "    map_entries = [tuple(map(int, entry.split())) for entry in map_entries]\n",
    "    \n",
    "    # Add the parsed map to the tables dictionary\n",
    "    tables[map_name] = map_entries\n",
    "\n",
    "# Now, 'tables' is a dictionary where each key is a map name and each value is a list of tuples\n",
    "# representing the entries in that map.\n",
    "\n",
    "# Pop the seeds row and store separately\n",
    "seeds = tables.pop('seeds:')\n",
    "seeds = seeds[0]\n"
   ]
  },
  {
   "cell_type": "code",
   "execution_count": 15,
   "metadata": {},
   "outputs": [],
   "source": [
    "# Define the lookup function\n",
    "def lookup(source, map):\n",
    "    # Iterate over the map\n",
    "    for dest_start, source_start, length in map:\n",
    "        # Check if the source is within the source range\n",
    "        if source_start <= source < source_start + length:\n",
    "            # Calculate the offset and add it to the destination start\n",
    "            offset = source - source_start\n",
    "            dest = dest_start + offset\n",
    "            # Return the destination number\n",
    "            return dest\n",
    "    # If the source is not within any source range, return the source itself\n",
    "    return source\n",
    "\n",
    "\n",
    "# Define the chained lookup function\n",
    "def chained_lookup(seed, map_list):\n",
    "    # The initial source number is the seed\n",
    "    source = seed\n",
    "    \n",
    "    # Iterate over the list of maps\n",
    "    for map_name in map_list:\n",
    "        # Perform a lookup on the current map\n",
    "        source = lookup(source, tables[map_name])\n",
    "    \n",
    "    # Return the final destination number\n",
    "    return source\n"
   ]
  },
  {
   "cell_type": "code",
   "execution_count": 16,
   "metadata": {},
   "outputs": [
    {
     "name": "stdout",
     "output_type": "stream",
     "text": [
      "199602917\n"
     ]
    }
   ],
   "source": [
    "map_list = [\"seed-to-soil map:\", \"soil-to-fertilizer map:\", \"fertilizer-to-water map:\", \"water-to-light map:\", \"light-to-temperature map:\", \"temperature-to-humidity map:\", \"humidity-to-location map:\"] # The list of maps\n",
    "\n",
    "# Initialize a variable to store the lowest location\n",
    "lowest_location = None\n",
    "\n",
    "# Iterate over the seeds\n",
    "for seed in seeds:\n",
    "    # Find the location for the current seed\n",
    "    location = chained_lookup(seed, map_list)\n",
    "    \n",
    "    # If this is the first location or if it's lower than the current lowest, update the lowest location\n",
    "    if lowest_location is None or location < lowest_location:\n",
    "        lowest_location = location\n",
    "\n",
    "# Print the lowest location\n",
    "print(lowest_location)\n"
   ]
  },
  {
   "cell_type": "code",
   "execution_count": 17,
   "metadata": {},
   "outputs": [],
   "source": [
    "# # part 2\n",
    "\n",
    "# # Initialize a variable to store the lowest location\n",
    "# lowest_location = None\n",
    "\n",
    "# # Iterate over the seeds tuple two items at a time\n",
    "# for i in range(0, len(seeds), 2):\n",
    "#     # Get the start number and range size\n",
    "#     start, size = seeds[i], seeds[i+1]\n",
    "    \n",
    "#     # Use the range function to get all integers from start to the end of the range\n",
    "#     for seed in range(start, start + size):\n",
    "#         # Find the location for the current seed\n",
    "#         location = chained_lookup(seed, map_list)\n",
    "        \n",
    "#         # If this is the first location or if it's lower than the current lowest, update the lowest location\n",
    "#         if lowest_location is None or location < lowest_location:\n",
    "#             lowest_location = location\n",
    "\n",
    "# # Print the lowest location\n",
    "# print(lowest_location)"
   ]
  },
  {
   "cell_type": "code",
   "execution_count": 26,
   "metadata": {},
   "outputs": [
    {
     "name": "stdout",
     "output_type": "stream",
     "text": [
      "Location 2254686 corresponds to seed 2406693241.\n"
     ]
    }
   ],
   "source": [
    "# Define the reverse lookup function\n",
    "def reverse_lookup(destination, map):\n",
    "    for dest_start, source_start, length in map:\n",
    "        if dest_start <= destination < dest_start + length:\n",
    "            offset = destination - dest_start\n",
    "            source = source_start + offset\n",
    "            return source\n",
    "    return destination\n",
    "\n",
    "# Define the reverse chained lookup function\n",
    "def reverse_chained_lookup(location, map_list):\n",
    "    destination = location\n",
    "    for map_name in reversed(map_list):\n",
    "        destination = reverse_lookup(destination, tables[map_name])\n",
    "    return destination\n",
    "\n",
    "# Define the function to check if a seed is within the given seed ranges\n",
    "def is_valid_seed(seed, seeds):\n",
    "    for i in range(0, len(seeds), 2):\n",
    "        start, size = seeds[i], seeds[i+1]\n",
    "        if start <= seed < start + size:\n",
    "            return True\n",
    "    return False\n",
    "\n",
    "# Initialize the location and a flag variable\n",
    "location = 1000000  # Guess start of the range\n",
    "found = False  # Flag to indicate if a valid location has been found\n",
    "\n",
    "# Iterate over possible location numbers\n",
    "while not found:  # End of the range\n",
    "    # Find the corresponding seed number\n",
    "    seed = reverse_chained_lookup(location, map_list)\n",
    "    \n",
    "    # Check if the seed is within the given seed ranges\n",
    "    if is_valid_seed(seed, seeds):\n",
    "        print(f\"Location {location} corresponds to seed {seed}.\")\n",
    "        found = True  # Set the flag to True to stop the loop\n",
    "    \n",
    "    location += 1  # Increment the location for the next iteration\n"
   ]
  }
 ],
 "metadata": {
  "kernelspec": {
   "display_name": "Python 3.9.12 ('base')",
   "language": "python",
   "name": "python3"
  },
  "language_info": {
   "codemirror_mode": {
    "name": "ipython",
    "version": 3
   },
   "file_extension": ".py",
   "mimetype": "text/x-python",
   "name": "python",
   "nbconvert_exporter": "python",
   "pygments_lexer": "ipython3",
   "version": "3.11.2"
  },
  "orig_nbformat": 4,
  "vscode": {
   "interpreter": {
    "hash": "df373f8daa4863e48189e3ee1b9bdcc41be48fbce57baf3694a1e9c77405ba32"
   }
  }
 },
 "nbformat": 4,
 "nbformat_minor": 2
}
