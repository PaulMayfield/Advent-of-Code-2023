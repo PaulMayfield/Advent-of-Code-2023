{
 "cells": [
  {
   "cell_type": "code",
   "execution_count": 47,
   "metadata": {},
   "outputs": [],
   "source": [
    "import requests\n",
    "import os\n",
    "\n",
    "Day = 6\n",
    "\n",
    "# get file from website using private session key stored in enviromental variables\n",
    "r = requests.get(\n",
    "            f'https://adventofcode.com/2023/day/'+str(Day)+'/input',\n",
    "            cookies={'session': os.getenv('AdventSessionKey')}\n",
    ")\n",
    "\n",
    "# read r.text\n",
    "lines = r.text.strip().split('\\n')\n"
   ]
  },
  {
   "cell_type": "code",
   "execution_count": 48,
   "metadata": {},
   "outputs": [],
   "source": [
    "# Remove the parts before the colons and split the lines by spaces\n",
    "times = list(map(int, lines[0].split(\":\")[1].split()))\n",
    "distances = list(map(int, lines[1].split(\":\")[1].split()))"
   ]
  },
  {
   "cell_type": "code",
   "execution_count": 49,
   "metadata": {},
   "outputs": [],
   "source": [
    "# Define the distance formula, but time is the time remaining after s units of time\n",
    "def distance(t, s):\n",
    "  return s * (t - s)\n"
   ]
  },
  {
   "cell_type": "code",
   "execution_count": 40,
   "metadata": {},
   "outputs": [
    {
     "name": "stdout",
     "output_type": "stream",
     "text": [
      "128700\n"
     ]
    }
   ],
   "source": [
    "# Initialize the product as 1\n",
    "product = 1\n",
    "\n",
    "# Loop through each race\n",
    "for t, d in zip(times, distances):\n",
    "  # Initialize the number of ways to win as 0\n",
    "  ways = 0\n",
    "\n",
    "  # Loop through the possible values of s from 0 to t\n",
    "  for s in range(t + 1):\n",
    "    # Calculate the distance for this value of s\n",
    "    d_s = distance(t, s)\n",
    "\n",
    "    # If the distance is greater than the record, increment the number of ways\n",
    "    if d_s > d:\n",
    "      ways += 1\n",
    "\n",
    "  # Multiply the product by the number of ways\n",
    "  product *= ways\n",
    "\n",
    "# Print the product\n",
    "print(product)"
   ]
  },
  {
   "cell_type": "code",
   "execution_count": 51,
   "metadata": {},
   "outputs": [],
   "source": [
    "# part 2\n",
    "\n",
    "# remove spaces to merge numbers\n",
    "lines = r.text.strip().replace(' ','').split('\\n')\n"
   ]
  },
  {
   "cell_type": "code",
   "execution_count": null,
   "metadata": {},
   "outputs": [],
   "source": [
    "# rest of code is the same (until I improved it)"
   ]
  },
  {
   "cell_type": "code",
   "execution_count": 52,
   "metadata": {},
   "outputs": [],
   "source": [
    "# Remove the parts before the colons and split the lines by spaces\n",
    "times = list(map(int, lines[0].split(\":\")[1].split()))\n",
    "distances = list(map(int, lines[1].split(\":\")[1].split()))"
   ]
  },
  {
   "cell_type": "code",
   "execution_count": 53,
   "metadata": {},
   "outputs": [
    {
     "name": "stdout",
     "output_type": "stream",
     "text": [
      "39594072\n"
     ]
    }
   ],
   "source": [
    "# more efficient version of first algorithm We only need to find the \"intersections\" of the hyperbola\n",
    "\n",
    "# Initialize the product as 1\n",
    "product = 1\n",
    "\n",
    "# Loop through each race\n",
    "for t, d in zip(times, distances):\n",
    "  # Initialize the first and last values of s as None\n",
    "  first_s = last_s = None\n",
    "\n",
    "  # Find the first value of s that satisfies d_s > d\n",
    "  for s in range(t + 1):\n",
    "    if distance(t, s) > d:\n",
    "      first_s = s\n",
    "      break\n",
    "\n",
    "  # Find the last value of s that satisfies d_s > d\n",
    "  for s in range(t, -1, -1):\n",
    "    if distance(t, s) > d:\n",
    "      last_s = s\n",
    "      break\n",
    "\n",
    "  # If both first_s and last_s are not None, calculate the number of ways\n",
    "  if first_s is not None and last_s is not None:\n",
    "    ways = last_s - first_s + 1\n",
    "  else:\n",
    "    ways = 0\n",
    "\n",
    "  # Multiply the product by the number of ways\n",
    "  product *= ways\n",
    "\n",
    "# Print the product\n",
    "print(product)\n"
   ]
  }
 ],
 "metadata": {
  "kernelspec": {
   "display_name": "Python 3.9.12 ('base')",
   "language": "python",
   "name": "python3"
  },
  "language_info": {
   "codemirror_mode": {
    "name": "ipython",
    "version": 3
   },
   "file_extension": ".py",
   "mimetype": "text/x-python",
   "name": "python",
   "nbconvert_exporter": "python",
   "pygments_lexer": "ipython3",
   "version": "3.11.2"
  },
  "orig_nbformat": 4,
  "vscode": {
   "interpreter": {
    "hash": "df373f8daa4863e48189e3ee1b9bdcc41be48fbce57baf3694a1e9c77405ba32"
   }
  }
 },
 "nbformat": 4,
 "nbformat_minor": 2
}
