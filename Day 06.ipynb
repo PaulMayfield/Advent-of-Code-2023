{
 "cells": [
  {
   "cell_type": "code",
   "execution_count": 1,
   "metadata": {},
   "outputs": [],
   "source": [
    "import requests\n",
    "import os\n",
    "\n",
    "Day = 6\n",
    "\n",
    "# get file from website using private session key stored in enviromental variables\n",
    "r = requests.get(\n",
    "            f'https://adventofcode.com/2023/day/'+str(Day)+'/input',\n",
    "            cookies={'session': os.getenv('AdventSessionKey')}\n",
    ")"
   ]
  },
  {
   "cell_type": "code",
   "execution_count": 2,
   "metadata": {},
   "outputs": [],
   "source": [
    "# read r.text\n",
    "lines = r.text.strip().split('\\n')\n",
    "\n",
    "# Remove the parts before the colons and split the lines by spaces\n",
    "times = list(map(int, lines[0].split(\":\")[1].split()))\n",
    "distances = list(map(int, lines[1].split(\":\")[1].split()))\n",
    "\n",
    "# Create a list of tuples to make answer machine logic simpler\n",
    "td = list(zip(times, distances))\n",
    "\n",
    "\n",
    "# part 2 - remove all the spaces to merge the numbers\n",
    "lines = r.text.strip().replace(' ','').split('\\n')\n",
    "times_part2 = list(map(int, lines[0].split(\":\")[1].split()))\n",
    "distances_part2 = list(map(int, lines[1].split(\":\")[1].split()))\n",
    "td_part2 = list(zip(times_part2, distances_part2))"
   ]
  },
  {
   "cell_type": "code",
   "execution_count": 3,
   "metadata": {},
   "outputs": [],
   "source": [
    "# this is a symmetric parabola between 0 and t, so find the left root and then\n",
    "# the integer of that root couts the left s values outside\n",
    "# since the value of t is included on the right side s+1 values are outside\n",
    "# subtract those from t to get the integer count inside the parabole\n",
    "def count_inside_int_root(t, d):\n",
    "    return t - (2 * int((t - pow((t * t - 4 * d),0.5) )/ 2) + 1)\n",
    "\n",
    "# process each tuple and multiple results together\n",
    "def answer_machine(td):\n",
    "    answer = 1\n",
    "    for t, d in td:\n",
    "        answer *= count_inside_int_root(t, d)\n",
    "    return answer"
   ]
  },
  {
   "cell_type": "code",
   "execution_count": 4,
   "metadata": {},
   "outputs": [
    {
     "name": "stdout",
     "output_type": "stream",
     "text": [
      "128700\n",
      "39594072\n"
     ]
    }
   ],
   "source": [
    "print(answer_machine(td))\n",
    "print(answer_machine(td_part2))"
   ]
  }
 ],
 "metadata": {
  "kernelspec": {
   "display_name": "Python 3.9.12 ('base')",
   "language": "python",
   "name": "python3"
  },
  "language_info": {
   "codemirror_mode": {
    "name": "ipython",
    "version": 3
   },
   "file_extension": ".py",
   "mimetype": "text/x-python",
   "name": "python",
   "nbconvert_exporter": "python",
   "pygments_lexer": "ipython3",
   "version": "3.11.2"
  },
  "orig_nbformat": 4,
  "vscode": {
   "interpreter": {
    "hash": "df373f8daa4863e48189e3ee1b9bdcc41be48fbce57baf3694a1e9c77405ba32"
   }
  }
 },
 "nbformat": 4,
 "nbformat_minor": 2
}
