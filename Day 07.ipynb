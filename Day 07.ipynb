{
 "cells": [
  {
   "cell_type": "code",
   "execution_count": 1,
   "metadata": {},
   "outputs": [],
   "source": [
    "import pandas as pd\n",
    "import requests\n",
    "import io\n",
    "import os\n",
    "\n",
    "Day = 7\n",
    "\n",
    "# get file from website using private session key stored in enviromental variables\n",
    "r = requests.get(\n",
    "            f'https://adventofcode.com/2023/day/'+str(Day)+'/input',\n",
    "            cookies={'session': os.getenv('AdventSessionKey')}\n",
    ")\n",
    "\n",
    "# read r.text\n",
    "df = pd.read_table(io.StringIO(r.text), sep=' ', names=['hand', 'bid'])\n",
    "\n"
   ]
  },
  {
   "cell_type": "code",
   "execution_count": 2,
   "metadata": {},
   "outputs": [],
   "source": [
    "# Test data\n",
    "#test = \"32T3K 765\\nT55J5 684\\nKK677 28\\nKTJJT 220\\nQQQJA 483\\nQJJQ2 1\\nJKKK2 2\\nQQQQ2 1\\n\"\n",
    "#df = pd.read_table(io.StringIO(test), sep=' ', names=['hand', 'bid'])\n"
   ]
  },
  {
   "cell_type": "code",
   "execution_count": 3,
   "metadata": {},
   "outputs": [],
   "source": [
    "# Functions\n",
    "\n",
    "# Define the hand_type and return the rank\n",
    "# added logic for when a wildcard is provided\n",
    "def hand_type(hand, wildcard=''):\n",
    "\n",
    "    # Check if all the cards in the hand are wildcards\n",
    "    if all(card == wildcard for card in hand):\n",
    "        return 7  # Five of a kind\n",
    "\n",
    "    counts = {card: hand.count(card) for card in hand}\n",
    "    wildcard_count = 0  # Initialize the wildcard count\n",
    "\n",
    "    # Check if there are wildcards in the hand\n",
    "    if wildcard in counts:\n",
    "        wildcard_count = counts[wildcard]  # Count the number of wildcards\n",
    "        del counts[wildcard]  # Remove the count for wildcards\n",
    "\n",
    "    # Check if there's only one unique card in the hand besides the wildcard\n",
    "    if len(counts) == 1:\n",
    "        card = list(counts.keys())[0]\n",
    "        counts[card] += wildcard_count\n",
    "        wildcard_count = 0\n",
    "\n",
    "    # Distribute the wildcards to the other cards to maximize the hand type\n",
    "    for card in sorted(counts, key=counts.get, reverse=True):\n",
    "        while wildcard_count > 0 and counts[card] < 4:\n",
    "            counts[card] += 1\n",
    "            wildcard_count -= 1\n",
    "\n",
    "    counts = sorted(list(counts.values()), reverse=True)\n",
    "\n",
    "    if counts == [5]:\n",
    "        return 7  # Five of a kind\n",
    "    elif counts == [4, 1]:\n",
    "        return 6  # Four of a kind\n",
    "    elif counts == [3, 2]:\n",
    "        return 5  # Full house\n",
    "    elif counts == [3, 1, 1]:\n",
    "        return 4  # Three of a kind\n",
    "    elif counts == [2, 2, 1]:\n",
    "        return 3  # Two pair\n",
    "    elif counts == [2, 1, 1, 1]:\n",
    "        return 2  # One pair\n",
    "    else:\n",
    "        return 1  # High card\n",
    "\n",
    "\n",
    "# For secondary sort, score based on hand strength in base 13, then convert to base 10\n",
    "def sort_cards(hand):\n",
    "    base_13 = ''.join(card_values[card] for card in hand)\n",
    "    score = int(base_13, 13)\n",
    "    return score\n",
    "\n",
    "\n",
    "\n",
    "\n"
   ]
  },
  {
   "cell_type": "code",
   "execution_count": 4,
   "metadata": {},
   "outputs": [
    {
     "name": "stdout",
     "output_type": "stream",
     "text": [
      "The sum of rank * bid for each row is: 250232501\n"
     ]
    }
   ],
   "source": [
    "# Part 1\n",
    "\n",
    "# Define the card ranks\n",
    "card_ranks = '23456789TJQKA'\n",
    "\n",
    "# Define the base 13 symbols\n",
    "base13_symbols = '0123456789abc'\n",
    "\n",
    "# Assign numerical values to the cards in base 13\n",
    "card_values = {card: base13_symbols[index] for index, card in enumerate(card_ranks)}\n",
    "\n",
    "# Apply the functions to the DataFrame\n",
    "df['Hand Type'] = df['hand'].apply(hand_type)\n",
    "df['Score'] = df['hand'].apply(sort_cards)\n",
    "\n",
    "# Sort the DataFrame by hand type and score\n",
    "df = df.sort_values(by=['Hand Type', 'Score'])\n",
    "\n",
    "# Reset the index and add 1 to get the rank\n",
    "df.reset_index(drop=True, inplace=True)\n",
    "df.index += 1\n",
    "\n",
    "# Calculate the sum of rank * bid for each row\n",
    "total = (df.index * df['bid']).sum()\n",
    "\n",
    "print(f'The sum of rank * bid for each row is: {total}')\n"
   ]
  },
  {
   "cell_type": "code",
   "execution_count": 5,
   "metadata": {},
   "outputs": [
    {
     "name": "stdout",
     "output_type": "stream",
     "text": [
      "The sum of rank * bid for each row is: 249138943\n"
     ]
    }
   ],
   "source": [
    "# Part 2. add optional wildcard arguement, set it to 'J'\n",
    "\n",
    "# Redefine the card ranks\n",
    "card_ranks = 'J23456789TQKA'\n",
    "\n",
    "# Define the base 13 symbols\n",
    "base13_symbols = '0123456789abc'\n",
    "\n",
    "# Assign numerical values to the cards in base 13\n",
    "card_values = {card: base13_symbols[index] for index, card in enumerate(card_ranks)}\n",
    "\n",
    "# Apply the functions to the DataFrame\n",
    "df['Hand Type'] = df['hand'].apply(lambda hand: hand_type(hand, wildcard='J'))\n",
    "df['Score'] = df['hand'].apply(sort_cards)\n",
    "\n",
    "# Sort the DataFrame by hand type and score\n",
    "df = df.sort_values(by=['Hand Type', 'Score'])\n",
    "\n",
    "# Reset the index and add 1 to get the rank\n",
    "df.reset_index(drop=True, inplace=True)\n",
    "df.index += 1\n",
    "\n",
    "# Calculate the sum of rank * bid for each row\n",
    "total = (df.index * df['bid']).sum()\n",
    "\n",
    "print(f'The sum of rank * bid for each row is: {total}')\n",
    "\n",
    "# not 249141853"
   ]
  }
 ],
 "metadata": {
  "kernelspec": {
   "display_name": "Python 3.9.12 ('base')",
   "language": "python",
   "name": "python3"
  },
  "language_info": {
   "codemirror_mode": {
    "name": "ipython",
    "version": 3
   },
   "file_extension": ".py",
   "mimetype": "text/x-python",
   "name": "python",
   "nbconvert_exporter": "python",
   "pygments_lexer": "ipython3",
   "version": "3.11.2"
  },
  "orig_nbformat": 4,
  "vscode": {
   "interpreter": {
    "hash": "df373f8daa4863e48189e3ee1b9bdcc41be48fbce57baf3694a1e9c77405ba32"
   }
  }
 },
 "nbformat": 4,
 "nbformat_minor": 2
}
