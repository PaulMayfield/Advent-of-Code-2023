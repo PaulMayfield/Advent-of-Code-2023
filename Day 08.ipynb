{
 "cells": [
  {
   "cell_type": "code",
   "execution_count": 1,
   "metadata": {},
   "outputs": [],
   "source": [
    "import requests\n",
    "import os\n",
    "\n",
    "Day = 8\n",
    "\n",
    "# get file from website using private session key stored in enviromental variables\n",
    "r = requests.get(\n",
    "            f'https://adventofcode.com/2023/day/'+str(Day)+'/input',\n",
    "            cookies={'session': os.getenv('AdventSessionKey')}\n",
    ")\n"
   ]
  },
  {
   "cell_type": "code",
   "execution_count": 2,
   "metadata": {},
   "outputs": [],
   "source": [
    "def parse_input(input_string):\n",
    "    lines = input_string.strip().split('\\n')\n",
    "\n",
    "    # The first line is the instructions\n",
    "    instructions = lines[0]\n",
    "\n",
    "    # The rest of the lines define the graph\n",
    "    graph = {}\n",
    "    for line in lines[1:]:\n",
    "        if line:  # Skip blank lines\n",
    "            node, edges = line.split(' = ')\n",
    "            edges = edges.strip('()').split(', ')\n",
    "            graph[node] = tuple(edges)\n",
    "\n",
    "    return instructions, graph\n",
    "\n",
    "def steps_to_reach_ZZZ(instructions, graph):\n",
    "    current_node = 'AAA'\n",
    "    steps = 0\n",
    "    instruction_index = 0\n",
    "\n",
    "    while current_node != 'ZZZ':\n",
    "        # Get the next instruction\n",
    "        instruction = instructions[instruction_index % len(instructions)]\n",
    "        instruction_index += 1\n",
    "\n",
    "        # Follow the instructions\n",
    "        if instruction == 'L':\n",
    "            current_node = graph[current_node][0]\n",
    "        else:  # instruction == 'R'\n",
    "            current_node = graph[current_node][1]\n",
    "\n",
    "        steps += 1\n",
    "\n",
    "    return steps\n"
   ]
  },
  {
   "cell_type": "code",
   "execution_count": 3,
   "metadata": {},
   "outputs": [
    {
     "name": "stdout",
     "output_type": "stream",
     "text": [
      "Steps required for all nodes to reach ZZZ: 17287\n"
     ]
    }
   ],
   "source": [
    "# get Variables by parsing the input file\n",
    "instructions, graph = parse_input(r.text)\n",
    "\n",
    "# Counts the steps to reach ZZZ\n",
    "steps = steps_to_reach_ZZZ(instructions, graph)\n",
    "\n",
    "print(f\"Steps required for all nodes to reach ZZZ: {steps}\")\n"
   ]
  },
  {
   "cell_type": "code",
   "execution_count": 7,
   "metadata": {},
   "outputs": [
    {
     "name": "stdout",
     "output_type": "stream",
     "text": [
      "For starting node GPA and ending node CVZ, the number of steps for each of the three loops are [13771, 13771, 13771]\n",
      "For starting node GTA and ending node FPZ, the number of steps for each of the three loops are [20803, 20803, 20803]\n",
      "For starting node VDA and ending node STZ, the number of steps for each of the three loops are [23147, 23147, 23147]\n",
      "For starting node BBA and ending node SKZ, the number of steps for each of the three loops are [19631, 19631, 19631]\n",
      "For starting node AAA and ending node ZZZ, the number of steps for each of the three loops are [17287, 17287, 17287]\n",
      "For starting node VSA and ending node MKZ, the number of steps for each of the three loops are [17873, 17873, 17873]\n"
     ]
    }
   ],
   "source": [
    "def steps_between_A_to_Z(instructions, graph):\n",
    "    results = []\n",
    "\n",
    "    for start_node in graph:\n",
    "        if start_node.endswith('A'):\n",
    "            current_node = start_node\n",
    "            steps = 0\n",
    "            ZZZ_count = 0\n",
    "            steps_each_loop = []\n",
    "\n",
    "            # loop a few times to confirm the hint that the cycle step length is consistant\n",
    "            # from A to Z is same as Z to Z, weird\n",
    "            while ZZZ_count < 3:\n",
    "                # Get the next instruction\n",
    "                instruction = instructions[steps % len(instructions)]\n",
    "\n",
    "                # Follow the instructions\n",
    "                if instruction == 'L':\n",
    "                    current_node = graph[current_node][0]\n",
    "                else:  # instruction == 'R'\n",
    "                    current_node = graph[current_node][1]\n",
    "\n",
    "                steps += 1\n",
    "\n",
    "                if current_node.endswith('Z'):\n",
    "                    ZZZ_count += 1\n",
    "                    steps_each_loop.append(steps)\n",
    "                    steps = 0  # Reset the step count\n",
    "\n",
    "            results.append((start_node, current_node, steps_each_loop))\n",
    "\n",
    "    return results\n",
    "\n",
    "# Counts the steps between each 'A' to 'Z'\n",
    "steps_between_A_to_Z = steps_between_A_to_Z(instructions, graph)\n",
    "\n",
    "for result in steps_between_A_to_Z:\n",
    "    print(f\"For starting node {result[0]} and ending node {result[1]}, the number of steps for each of the three loops are {result[2]}\")\n"
   ]
  },
  {
   "cell_type": "code",
   "execution_count": 14,
   "metadata": {},
   "outputs": [
    {
     "name": "stdout",
     "output_type": "stream",
     "text": [
      "The least common multiple of the first item in each tuple in results[2] is 18625484023687\n"
     ]
    }
   ],
   "source": [
    "import math\n",
    "\n",
    "def lcm(a, b):\n",
    "    return abs(a*b) // math.gcd(a, b)\n",
    "\n",
    "lcm_value = 1\n",
    "\n",
    "for result in steps_between_A_to_Z:\n",
    "    lcm_value = lcm(lcm_value, result[2][0])\n",
    "\n",
    "print(f\"The least common multiple of the first item in each tuple in results[2] is {lcm_value}\")"
   ]
  }
 ],
 "metadata": {
  "kernelspec": {
   "display_name": "Python 3.9.12 ('base')",
   "language": "python",
   "name": "python3"
  },
  "language_info": {
   "codemirror_mode": {
    "name": "ipython",
    "version": 3
   },
   "file_extension": ".py",
   "mimetype": "text/x-python",
   "name": "python",
   "nbconvert_exporter": "python",
   "pygments_lexer": "ipython3",
   "version": "3.11.2"
  },
  "orig_nbformat": 4,
  "vscode": {
   "interpreter": {
    "hash": "df373f8daa4863e48189e3ee1b9bdcc41be48fbce57baf3694a1e9c77405ba32"
   }
  }
 },
 "nbformat": 4,
 "nbformat_minor": 2
}
