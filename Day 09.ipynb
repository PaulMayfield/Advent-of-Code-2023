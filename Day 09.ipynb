{
 "cells": [
  {
   "cell_type": "code",
   "execution_count": 4,
   "metadata": {},
   "outputs": [],
   "source": [
    "import requests\n",
    "import os\n",
    "\n",
    "Day = 9\n",
    "\n",
    "# get file from website using private session key stored in enviromental variables\n",
    "r = requests.get(\n",
    "            f'https://adventofcode.com/2023/day/'+str(Day)+'/input',\n",
    "            cookies={'session': os.getenv('AdventSessionKey')}\n",
    ")\n",
    "\n",
    "lines = r.text.strip().split('\\n')\n"
   ]
  },
  {
   "cell_type": "code",
   "execution_count": 16,
   "metadata": {},
   "outputs": [],
   "source": [
    "# Define a function to generate the sequence of differences\n",
    "def diff(seq):\n",
    "  result = []\n",
    "  for i in range(len(seq) - 1):\n",
    "    result.append(seq[i + 1] - seq[i])\n",
    "  return result\n",
    "\n",
    "# Define a function to extrapolate the next value of a sequence\n",
    "def extrapolate(seq):\n",
    "  # Keep track of the original sequence\n",
    "  original = seq.copy()\n",
    "  # Keep track of the sequences of differences\n",
    "  diffs = []\n",
    "  # Loop until the sequence is all zeroes\n",
    "  while not all(x == 0 for x in seq):\n",
    "    # Generate the next sequence of differences\n",
    "    seq = diff(seq)\n",
    "    # Append it to the list of sequences\n",
    "    diffs.append(seq)\n",
    "  # Add a zero to the end of the last sequence\n",
    "  seq.append(0)\n",
    "  # Loop backwards through the list of sequences\n",
    "  for i in range(len(diffs) - 1, -1, -1):\n",
    "    # Add the last value of the current sequence to the last value of the previous sequence\n",
    "    diffs[i].append(diffs[i][-1] + seq[-1])\n",
    "    # Update the sequence to be the previous one\n",
    "    seq = diffs[i]\n",
    "  # Add the last value of the first sequence to the last value of the original sequence\n",
    "  original.append(original[-1] + seq[-1])\n",
    "  # Return the extrapolated value\n",
    "  return original[-1]\n"
   ]
  },
  {
   "cell_type": "code",
   "execution_count": 17,
   "metadata": {},
   "outputs": [
    {
     "name": "stdout",
     "output_type": "stream",
     "text": [
      "The sum of the extrapolated values for each sequence is 1930746032.\n"
     ]
    }
   ],
   "source": [
    "# Part 1\n",
    "\n",
    "# Initiate sum for the answer\n",
    "answer = 0\n",
    "\n",
    "# Iterate through the input file\n",
    "for line in lines:\n",
    "    # Strip the newline character and split the line by spaces\n",
    "    seq = line.strip().split()\n",
    "    # Convert the sequence elements to integers\n",
    "    seq = [int(x) for x in seq]\n",
    "    # Call the extrapolate function and append the result to the sequence\n",
    "    answer += extrapolate(seq)\n",
    "\n",
    "print(f'The sum of the extrapolated values for each sequence is {answer}.')\n"
   ]
  },
  {
   "cell_type": "code",
   "execution_count": 18,
   "metadata": {},
   "outputs": [
    {
     "name": "stdout",
     "output_type": "stream",
     "text": [
      "The sum of the extrapolated values for each reversed sequence is 1154.\n"
     ]
    }
   ],
   "source": [
    "# Part 2\n",
    "\n",
    "# Initiate sum for the answer\n",
    "answer = 0\n",
    "\n",
    "# Iterate through the input file\n",
    "for line in lines:\n",
    "    # Strip the newline character and split the line by spaces\n",
    "    seq = line.strip().split()\n",
    "    # Convert the sequence elements to integers\n",
    "    seq = [int(x) for x in seq[::-1]]\n",
    "    # Call the extrapolate function and append the result to the sequence\n",
    "    answer += extrapolate(seq)\n",
    "\n",
    "print(f'The sum of the extrapolated values for each reversed sequence is {answer}.')\n"
   ]
  }
 ],
 "metadata": {
  "kernelspec": {
   "display_name": "Python 3.9.12 ('base')",
   "language": "python",
   "name": "python3"
  },
  "language_info": {
   "codemirror_mode": {
    "name": "ipython",
    "version": 3
   },
   "file_extension": ".py",
   "mimetype": "text/x-python",
   "name": "python",
   "nbconvert_exporter": "python",
   "pygments_lexer": "ipython3",
   "version": "3.11.2"
  },
  "orig_nbformat": 4,
  "vscode": {
   "interpreter": {
    "hash": "df373f8daa4863e48189e3ee1b9bdcc41be48fbce57baf3694a1e9c77405ba32"
   }
  }
 },
 "nbformat": 4,
 "nbformat_minor": 2
}
