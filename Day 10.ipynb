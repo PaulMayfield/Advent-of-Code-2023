{
 "cells": [
  {
   "cell_type": "code",
   "execution_count": 1,
   "metadata": {},
   "outputs": [],
   "source": [
    "import requests\n",
    "import os\n",
    "\n",
    "Day = 10\n",
    "\n",
    "# get file from website using private session key stored in enviromental variables\n",
    "r = requests.get(\n",
    "            f'https://adventofcode.com/2023/day/'+str(Day)+'/input',\n",
    "            cookies={'session': os.getenv('AdventSessionKey')}\n",
    ")\n",
    "\n",
    "# read r.text\n",
    "text_array = r.text.strip().split('\\n')\n"
   ]
  },
  {
   "cell_type": "code",
   "execution_count": 13,
   "metadata": {},
   "outputs": [
    {
     "name": "stdout",
     "output_type": "stream",
     "text": [
      "115 40\n",
      "The distance at the point of intersection is: 6867\n"
     ]
    }
   ],
   "source": [
    "def convert(text_array):\n",
    "    # Define the directions for each symbol\n",
    "    directions = {\n",
    "        \"|\": [\"N\", \"S\"],\n",
    "        \"-\": [\"E\", \"W\"],\n",
    "        \"L\": [\"N\", \"E\"],\n",
    "        \"J\": [\"N\", \"W\"],\n",
    "        \"7\": [\"S\", \"W\"],\n",
    "        \"F\": [\"S\", \"E\"]\n",
    "    }\n",
    "\n",
    "    # Define the opposite directions\n",
    "    opposite_directions = {\n",
    "        \"N\": \"S\",\n",
    "        \"E\": \"W\",\n",
    "        \"S\": \"N\",\n",
    "        \"W\": \"E\"\n",
    "    }\n",
    "\n",
    "    # Define the movement for each direction\n",
    "    movement = {\"N\": (-1, 0), \"E\": (0, 1), \"S\": (1, 0), \"W\": (0, -1)}\n",
    "\n",
    "    # Find the starting position\n",
    "    start_row, start_col = next((i, j) for i, row in enumerate(text_array) for j, cell in enumerate(row) if cell == \"S\")\n",
    "    print(start_row, start_col)\n",
    "\n",
    "    # Try each direction one by one\n",
    "    for start_direction in [\"N\", \"E\", \"S\", \"W\"]:\n",
    "\n",
    "        # Initialize the number array with the same size as the text array\n",
    "        number_array = [[None]*len(row) for row in text_array]\n",
    "        \n",
    "        # Assign 0 to the starting position\n",
    "        number_array[start_row][start_col] = (0, None)\n",
    "        \n",
    "        # Initialize the symbol array with the same size as the text array\n",
    "        symbol_array = [['.']*len(row) for row in text_array]\n",
    "\n",
    "         # Assign S to the starting position\n",
    "        symbol_array[start_row][start_col] = 'S'\n",
    "\n",
    "        # Start from the 'S' symbol and the current direction\n",
    "        row, col, direction, distance = start_row, start_col, start_direction, 0\n",
    "\n",
    "        while True:\n",
    "            # Move to the next position based on the direction\n",
    "            d_row, d_col = movement[direction]\n",
    "            row += d_row\n",
    "            col += d_col\n",
    "\n",
    "            # Check if we're out of bounds or have looped back to the 'S' symbol\n",
    "            if not(0 <= row < len(text_array) and 0 <= col < len(text_array[0])) or (row == start_row and col == start_col):\n",
    "                break\n",
    "\n",
    "            # Check the symbol at the new position\n",
    "            symbol = text_array[row][col]\n",
    "            if symbol in directions and opposite_directions[direction] in directions[symbol]:\n",
    "                # Update the distance and the number array\n",
    "                distance += 1\n",
    "                number_array[row][col] = (distance, direction)\n",
    "\n",
    "                # Update the symbol array\n",
    "                symbol_array[row][col] = symbol\n",
    "\n",
    "                # Update the direction to the other connecting direction for the symbol\n",
    "                direction = next(d for d in directions[symbol] if d != opposite_directions[direction])\n",
    "\n",
    "        # Check if we have looped back to the 'S' symbol\n",
    "        if row == start_row and col == start_col:\n",
    "            return number_array, symbol_array, distance\n",
    "\n",
    "    # Return Nones if it failed\n",
    "    return None, None\n",
    "\n",
    "# Print the result\n",
    "number_array, symbol_array, intersection_distance = convert(text_array)\n",
    "#for row in number_array:\n",
    "#    print([cell[0] if cell is not None else None for cell in row])\n",
    "print(\"The distance at the point of intersection is:\", int((intersection_distance+1) / 2))\n",
    "# 6867"
   ]
  },
  {
   "cell_type": "code",
   "execution_count": 15,
   "metadata": {},
   "outputs": [
    {
     "name": "stdout",
     "output_type": "stream",
     "text": [
      "The count of periods inside the loop is: 595\n"
     ]
    }
   ],
   "source": [
    "def count_total_periods(symbol_array):\n",
    "    # Define the north-facing symbols (thanks to Reddit hint)\n",
    "    # I cheated by adding S to this list after looking at my part 1 symbol_array \n",
    "    north_facing_symbols = [\"|\", \"L\", \"J\", \"S\"]\n",
    "\n",
    "    # Initialize the total count\n",
    "    total_count = 0\n",
    "\n",
    "    # Scan each line\n",
    "    for row in symbol_array:\n",
    "        # Initialize the count and the tracking variable for the current line\n",
    "        count = 0\n",
    "        tracking = False\n",
    "\n",
    "        # Scan each symbol in the line\n",
    "        for symbol in row:\n",
    "            if symbol in north_facing_symbols:\n",
    "                # If the symbol is a north-facing symbol, add the count to the total count, reset the count, and flip the tracking variable\n",
    "                total_count += count\n",
    "                count = 0\n",
    "                tracking = not tracking\n",
    "            elif symbol == '.' and tracking:\n",
    "                # If the symbol is a period and the tracking variable is ON, increment the count\n",
    "                count += 1\n",
    "\n",
    "    return total_count\n",
    "\n",
    "# Print the result\n",
    "total_periods = count_total_periods(symbol_array)\n",
    "print(\"The count of periods inside the loop is:\", total_periods)\n"
   ]
  }
 ],
 "metadata": {
  "kernelspec": {
   "display_name": "Python 3.9.12 ('base')",
   "language": "python",
   "name": "python3"
  },
  "language_info": {
   "codemirror_mode": {
    "name": "ipython",
    "version": 3
   },
   "file_extension": ".py",
   "mimetype": "text/x-python",
   "name": "python",
   "nbconvert_exporter": "python",
   "pygments_lexer": "ipython3",
   "version": "3.11.2"
  },
  "orig_nbformat": 4,
  "vscode": {
   "interpreter": {
    "hash": "df373f8daa4863e48189e3ee1b9bdcc41be48fbce57baf3694a1e9c77405ba32"
   }
  }
 },
 "nbformat": 4,
 "nbformat_minor": 2
}
