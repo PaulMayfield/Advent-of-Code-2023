{
 "cells": [
  {
   "cell_type": "code",
   "execution_count": 3,
   "metadata": {},
   "outputs": [],
   "source": [
    "import requests\n",
    "import os\n",
    "\n",
    "Day = 10\n",
    "\n",
    "# get file from website using private session key stored in enviromental variables\n",
    "r = requests.get(\n",
    "            f'https://adventofcode.com/2023/day/'+str(Day)+'/input',\n",
    "            cookies={'session': os.getenv('AdventSessionKey')}\n",
    ")\n",
    "\n",
    "# read r.text\n",
    "text_array = r.text.strip().split('\\n')\n"
   ]
  },
  {
   "cell_type": "code",
   "execution_count": 4,
   "metadata": {},
   "outputs": [
    {
     "name": "stdout",
     "output_type": "stream",
     "text": [
      "The distance at the point of intersection is: 6867\n"
     ]
    }
   ],
   "source": [
    "def convert(text_array):\n",
    "    # Define the directions for each symbol\n",
    "    directions = {\n",
    "        \"|\": [\"N\", \"S\"],\n",
    "        \"-\": [\"E\", \"W\"],\n",
    "        \"L\": [\"N\", \"E\"],\n",
    "        \"J\": [\"N\", \"W\"],\n",
    "        \"7\": [\"S\", \"W\"],\n",
    "        \"F\": [\"S\", \"E\"]\n",
    "    }\n",
    "\n",
    "    # Define the opposite directions\n",
    "    opposite_directions = {\n",
    "        \"N\": \"S\",\n",
    "        \"E\": \"W\",\n",
    "        \"S\": \"N\",\n",
    "        \"W\": \"E\"\n",
    "    }\n",
    "\n",
    "    # Define the movement for each direction\n",
    "    movement = {\"N\": (-1, 0), \"E\": (0, 1), \"S\": (1, 0), \"W\": (0, -1)}\n",
    "\n",
    "    # Find the starting position\n",
    "    start_row, start_col = next((i, j) for i, row in enumerate(text_array) for j, cell in enumerate(row) if cell == \"S\")\n",
    "    \n",
    "    # Try each direction one by one\n",
    "    for start_direction in [\"N\", \"E\", \"S\", \"W\"]:\n",
    "\n",
    "        # Initialize the number array with the same size as the text array\n",
    "        number_array = [[None]*len(row) for row in text_array]\n",
    "        \n",
    "        # Assign 0 to the starting position\n",
    "        number_array[start_row][start_col] = (0, None)\n",
    "        \n",
    "        # Initialize the symbol array with the same size as the text array\n",
    "        symbol_array = [['.']*len(row) for row in text_array]\n",
    "\n",
    "         # Assign S to the starting position\n",
    "        symbol_array[start_row][start_col] = 'S'\n",
    "\n",
    "        # Initialize the path array with the starting position\n",
    "        path = [(start_row, start_col)]\n",
    "\n",
    "        # Start from the 'S' symbol and the current direction\n",
    "        row, col, direction, distance = start_row, start_col, start_direction, 0\n",
    "\n",
    "        while True:\n",
    "            # Move to the next position based on the direction\n",
    "            d_row, d_col = movement[direction]\n",
    "            row += d_row\n",
    "            col += d_col\n",
    "\n",
    "            # Check if we're out of bounds or have looped back to the 'S' symbol\n",
    "            if not(0 <= row < len(text_array) and 0 <= col < len(text_array[0])) or (row == start_row and col == start_col):\n",
    "                break\n",
    "\n",
    "            # Check the symbol at the new position\n",
    "            symbol = text_array[row][col]\n",
    "            if symbol in directions and opposite_directions[direction] in directions[symbol]:\n",
    "                # Update the distance and the number array\n",
    "                distance += 1\n",
    "                number_array[row][col] = (distance, direction)\n",
    "\n",
    "                # Add the new position to the path\n",
    "                path.append((row, col))\n",
    "\n",
    "                # Update the symbol array\n",
    "                symbol_array[row][col] = symbol\n",
    "\n",
    "                # Update the direction to the other connecting direction for the symbol\n",
    "                direction = next(d for d in directions[symbol] if d != opposite_directions[direction])\n",
    "\n",
    "        # Check if we have looped back to the 'S' symbol\n",
    "        if row == start_row and col == start_col:\n",
    "            return number_array, symbol_array, path, distance\n",
    "\n",
    "    # Return Nones if it failed\n",
    "    return None, None, None, None\n",
    "\n",
    "# Print the result\n",
    "number_array, symbol_array, path, intersection_distance = convert(text_array)\n",
    "#for row in number_array:\n",
    "#    print([cell[0] if cell is not None else None for cell in row])\n",
    "print(\"The distance at the point of intersection is:\", int((intersection_distance+1) / 2))\n",
    "# 6867"
   ]
  },
  {
   "cell_type": "code",
   "execution_count": 11,
   "metadata": {},
   "outputs": [
    {
     "name": "stdout",
     "output_type": "stream",
     "text": [
      "The count of periods inside the loop is: 595\n"
     ]
    }
   ],
   "source": [
    "def count_total_periods(symbol_array):\n",
    "    # Define the north-facing symbols (thanks to Reddit hint)\n",
    "    # I cheated by adding S to this list after looking at my part 1 symbol_array \n",
    "    north_facing_symbols = [\"|\", \"L\", \"J\", \"S\"]\n",
    "\n",
    "    # Initialize the total count\n",
    "    total_count = 0\n",
    "\n",
    "    # Scan each line\n",
    "    for row in symbol_array:\n",
    "        # Initialize the count and the tracking variable for the current line\n",
    "        count = 0\n",
    "        tracking = False\n",
    "\n",
    "        # Scan each symbol in the line\n",
    "        for symbol in row:\n",
    "            if symbol in north_facing_symbols:\n",
    "                # If the symbol is a north-facing symbol, add the count to the total count, reset the count, and flip the tracking variable\n",
    "                total_count += count\n",
    "                count = 0\n",
    "                tracking = not tracking\n",
    "            elif symbol == '.' and tracking:\n",
    "                # If the symbol is a period and the tracking variable is ON, increment the count\n",
    "                count += 1\n",
    "\n",
    "    return total_count\n",
    "\n",
    "# Print the result\n",
    "total_periods = count_total_periods(symbol_array)\n",
    "print(\"The count of periods inside the loop is:\", total_periods)\n"
   ]
  },
  {
   "cell_type": "code",
   "execution_count": 12,
   "metadata": {},
   "outputs": [
    {
     "name": "stdout",
     "output_type": "stream",
     "text": [
      "Number of interior points: 595\n"
     ]
    }
   ],
   "source": [
    "def count_lattice_points(path):\n",
    "    # Initialize the counts\n",
    "    B = len(path)  # All points on the path are boundary points\n",
    "    I = 0  # Start with no interior points\n",
    "\n",
    "    # Get the min and max coordinates of the path\n",
    "    min_row = min(point[0] for point in path)\n",
    "    max_row = max(point[0] for point in path)\n",
    "    min_col = min(point[1] for point in path)\n",
    "    max_col = max(point[1] for point in path)\n",
    "\n",
    "    # Check all points within the bounding box of the path\n",
    "    for row in range(min_row + 1, max_row):\n",
    "        for col in range(min_col + 1, max_col):\n",
    "            if (row, col) not in path and is_inside_polygon((row, col), path):\n",
    "                # If the point is not on the path, it's an interior point\n",
    "                I += 1\n",
    "\n",
    "    return B, I\n",
    "\n",
    "# Calculate the number of boundary and interior points\n",
    "B, I = count_lattice_points(path)\n",
    "\n",
    "print(\"Number of interior points:\", I)\n"
   ]
  },
  {
   "cell_type": "code",
   "execution_count": 10,
   "metadata": {},
   "outputs": [
    {
     "name": "stdout",
     "output_type": "stream",
     "text": [
      "Number of interior periods: 595\n"
     ]
    }
   ],
   "source": [
    "def is_inside_polygon(point, polygon):\n",
    "    x, y = point\n",
    "    n = len(polygon)\n",
    "    inside = False\n",
    "\n",
    "    p1x, p1y = polygon[0]\n",
    "    for i in range(1, n + 1):\n",
    "        p2x, p2y = polygon[i % n]\n",
    "        if y > min(p1y, p2y):\n",
    "            if y <= max(p1y, p2y):\n",
    "                if x <= max(p1x, p2x):\n",
    "                    if p1y != p2y:\n",
    "                        xinters = (y - p1y) * (p2x - p1x) / (p2y - p1y) + p1x\n",
    "                    if p1x == p2x or x <= xinters:\n",
    "                        inside = not inside\n",
    "        p1x, p1y = p2x, p2y\n",
    "\n",
    "    return inside\n",
    "\n",
    "def count_interior_periods(symbol_array, path):\n",
    "    # Initialize the count\n",
    "    count = 0\n",
    "\n",
    "    # Scan each cell in the symbol array\n",
    "    for i, row in enumerate(symbol_array):\n",
    "        for j, cell in enumerate(row):\n",
    "            if cell == '.' and is_inside_polygon((i, j), path):\n",
    "                # If the cell is a period and is inside the path, increment the count\n",
    "                count += 1\n",
    "\n",
    "    return count\n",
    "\n",
    "# Calculate the number of interior periods\n",
    "interior_periods = count_interior_periods(symbol_array, path)\n",
    "print(\"Number of interior periods:\", interior_periods)"
   ]
  }
 ],
 "metadata": {
  "kernelspec": {
   "display_name": "Python 3.9.12 ('base')",
   "language": "python",
   "name": "python3"
  },
  "language_info": {
   "codemirror_mode": {
    "name": "ipython",
    "version": 3
   },
   "file_extension": ".py",
   "mimetype": "text/x-python",
   "name": "python",
   "nbconvert_exporter": "python",
   "pygments_lexer": "ipython3",
   "version": "3.11.2"
  },
  "orig_nbformat": 4,
  "vscode": {
   "interpreter": {
    "hash": "df373f8daa4863e48189e3ee1b9bdcc41be48fbce57baf3694a1e9c77405ba32"
   }
  }
 },
 "nbformat": 4,
 "nbformat_minor": 2
}
