{
 "cells": [
  {
   "cell_type": "code",
   "execution_count": 1,
   "metadata": {},
   "outputs": [],
   "source": [
    "import requests\n",
    "import os\n",
    "\n",
    "Day = 11\n",
    "\n",
    "# get file from website using private session key stored in enviromental variables\n",
    "r = requests.get(\n",
    "            f'https://adventofcode.com/2023/day/'+str(Day)+'/input',\n",
    "            cookies={'session': os.getenv('AdventSessionKey')}\n",
    ")\n",
    "\n",
    "# read r.text\n",
    "text_array = r.text.strip().split('\\n')\n"
   ]
  },
  {
   "cell_type": "code",
   "execution_count": 12,
   "metadata": {},
   "outputs": [
    {
     "name": "stdout",
     "output_type": "stream",
     "text": [
      "Total Manhattan distance between all unique combinations: 622120986954\n"
     ]
    }
   ],
   "source": [
    "# Part 1 is SIZE 2\n",
    "# Part 2 is SIZE 1000000\n",
    "SIZE = 1000000\n",
    "\n",
    "def transpose(text):\n",
    "    # Transpose the text\n",
    "    return list(map(list, zip(*text)))\n",
    "\n",
    "def modify_text(text):\n",
    "    # Initialize an empty list to store the indices of \"expanded\" rows\n",
    "    expanded_indices = []\n",
    "\n",
    "    # Iterate over each row in the text\n",
    "    for i, row in enumerate(text):\n",
    "        # Check if the row contains only periods\n",
    "        if set(row) == {'.'}:\n",
    "            # If it does, add its index to the expanded_indices list\n",
    "            expanded_indices.append(i)\n",
    "    \n",
    "    return expanded_indices\n",
    "\n",
    "def manhattan_distance(point1, point2, expanded_rows, expanded_columns, expansion_size):\n",
    "    # Calculate the Manhattan distance between two points, taking into account the \"expanded\" rows and columns\n",
    "    \n",
    "    # True Manhattan Distance\n",
    "    row_distance = abs(point1[0] - point2[0])\n",
    "    column_distance = abs(point1[1] - point2[1])\n",
    "    \n",
    "    # Now add to the distance for each time you crossed an expanded row or column\n",
    "    # Calculate the number of expanded rows or columns between the points\n",
    "    expanded_row_count = len([i for i in expanded_rows if min(point1[0], point2[0]) <= i <= max(point1[0], point2[0])])\n",
    "    expanded_column_count = len([j for j in expanded_columns if min(point1[1], point2[1]) <= j <= max(point1[1], point2[1])])\n",
    "\n",
    "    # Add the expansion size for the expanded rows or columns between the points\n",
    "    row_distance += (expansion_size - 1) * expanded_row_count\n",
    "    column_distance += (expansion_size - 1) * expanded_column_count\n",
    "\n",
    "    return row_distance + column_distance\n",
    "\n",
    "# Apply the logic to the rows\n",
    "expanded_rows = modify_text(text_array) \n",
    "\n",
    "# Apply the logic to the columns (which are now rows after transposing)\n",
    "expanded_columns = modify_text(transpose(text_array))\n",
    "\n",
    "# Find the locations of each '#' symbol\n",
    "locations = [(i, j) for i, row in enumerate(text_array) for j, char in enumerate(row) if char == '#']\n",
    "\n",
    "# Calculate the Manhattan distances between each pair of '#' symbols\n",
    "distances = [manhattan_distance(loc1, loc2, expanded_rows, expanded_columns, SIZE) for i, loc1 in enumerate(locations) for loc2 in locations[i+1:]]\n",
    "\n",
    "# Print the sum of the distances\n",
    "print(f\"Total Manhattan distance between all unique combinations: {sum(distances)}\")\n"
   ]
  }
 ],
 "metadata": {
  "kernelspec": {
   "display_name": "Python 3.9.12 ('base')",
   "language": "python",
   "name": "python3"
  },
  "language_info": {
   "codemirror_mode": {
    "name": "ipython",
    "version": 3
   },
   "file_extension": ".py",
   "mimetype": "text/x-python",
   "name": "python",
   "nbconvert_exporter": "python",
   "pygments_lexer": "ipython3",
   "version": "3.11.2"
  },
  "orig_nbformat": 4,
  "vscode": {
   "interpreter": {
    "hash": "df373f8daa4863e48189e3ee1b9bdcc41be48fbce57baf3694a1e9c77405ba32"
   }
  }
 },
 "nbformat": 4,
 "nbformat_minor": 2
}
