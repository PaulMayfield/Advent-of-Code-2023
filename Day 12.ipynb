{
 "cells": [
  {
   "cell_type": "code",
   "execution_count": 4,
   "metadata": {},
   "outputs": [],
   "source": [
    "import requests\n",
    "import os\n",
    "\n",
    "Day = 12\n",
    "\n",
    "# get file from website using private session key stored in enviromental variables\n",
    "r = requests.get(\n",
    "            f'https://adventofcode.com/2023/day/'+str(Day)+'/input',\n",
    "            cookies={'session': os.getenv('AdventSessionKey')}\n",
    ")\n",
    "\n",
    "# read r.text\n",
    "lines = r.text.strip().split('\\n')\n"
   ]
  },
  {
   "cell_type": "code",
   "execution_count": 5,
   "metadata": {},
   "outputs": [],
   "source": [
    "import itertools\n",
    "\n",
    "def solve(pattern, counts):\n",
    "    # Convert the pattern to a list for easier manipulation\n",
    "    pattern = list(pattern)\n",
    "    \n",
    "    # Find the indices of all question marks in the pattern\n",
    "    question_indices = [i for i, char in enumerate(pattern) if char == '?']\n",
    "    \n",
    "    # Generate all possible combinations of periods and hashes for the question marks\n",
    "    combinations = list(itertools.product(['.', '#'], repeat=len(question_indices)))\n",
    "    \n",
    "    valid_patterns = []\n",
    "    for combination in combinations:\n",
    "        # Create a copy of the pattern\n",
    "        new_pattern = pattern.copy()\n",
    "        \n",
    "        # Replace the question marks with the current combination of periods and hashes\n",
    "        for i, index in enumerate(question_indices):\n",
    "            new_pattern[index] = combination[i]\n",
    "        \n",
    "        # Check if the new pattern is valid\n",
    "        if is_valid(''.join(new_pattern), counts):\n",
    "            valid_patterns.append(''.join(new_pattern))\n",
    "    \n",
    "    return valid_patterns\n",
    "\n",
    "def is_valid(pattern, counts):\n",
    "    # Split the pattern into segments based on the '.' delimiter\n",
    "    segments = pattern.split('.')\n",
    "    \n",
    "    # Remove empty segments caused by leading, trailing, or consecutive periods\n",
    "    segments = [segment for segment in segments if segment]\n",
    "    \n",
    "    # Check if the number of segments matches the number of counts\n",
    "    if len(segments) != len(counts):\n",
    "        return False\n",
    "    \n",
    "    # Check if the number of hashes in each segment matches the corresponding count\n",
    "    for segment, count in zip(segments, counts):\n",
    "        if segment.count('#') != count:\n",
    "            return False\n",
    "    \n",
    "    return True\n",
    "\n",
    "# Test the function\n",
    "# pattern = '?###????..????'\n",
    "# counts = [3, 2, 1]\n",
    "# print(len(solve(pattern, counts)))\n",
    "# [print(x) for x in solve(pattern, counts)]"
   ]
  },
  {
   "cell_type": "code",
   "execution_count": 6,
   "metadata": {},
   "outputs": [
    {
     "name": "stdout",
     "output_type": "stream",
     "text": [
      "7857\n"
     ]
    }
   ],
   "source": [
    "total = 0\n",
    "for line in lines:\n",
    "    pattern, counts = line.strip().split(' ')\n",
    "    counts = list(map(int, counts.split(',')))\n",
    "    valid_patterns = solve(pattern, counts)\n",
    "    total += len(valid_patterns)\n",
    "\n",
    "print(total)"
   ]
  },
  {
   "cell_type": "code",
   "execution_count": null,
   "metadata": {},
   "outputs": [],
   "source": [
    "# recursive version but it's not faster\n",
    "\n",
    "import re\n",
    "\n",
    "def generate_patterns(pattern, replacements={'?': ['#', '.']}):\n",
    "    if '?' not in pattern:\n",
    "        yield pattern\n",
    "    else:\n",
    "        for replacement in replacements['?']:\n",
    "            yield from generate_patterns(pattern.replace('?', replacement, 1))\n",
    "\n",
    "def valid_pattern(pattern, counts):\n",
    "    groups = [match.group() for match in re.finditer(r'#+', pattern)]\n",
    "    lengths = [len(group) for group in groups]\n",
    "    return lengths == counts\n"
   ]
  },
  {
   "cell_type": "code",
   "execution_count": null,
   "metadata": {},
   "outputs": [],
   "source": [
    "total = 0\n",
    "for line in lines:\n",
    "    pattern, counts = line.strip().split(' ')\n",
    "    counts = list(map(int, counts.split(',')))\n",
    "    valid_patterns = [p for p in generate_patterns(pattern) if valid_pattern(p,counts)]\n",
    "    total += len(valid_patterns)\n",
    "\n",
    "print(total)"
   ]
  }
 ],
 "metadata": {
  "kernelspec": {
   "display_name": "Python 3.9.12 ('base')",
   "language": "python",
   "name": "python3"
  },
  "language_info": {
   "codemirror_mode": {
    "name": "ipython",
    "version": 3
   },
   "file_extension": ".py",
   "mimetype": "text/x-python",
   "name": "python",
   "nbconvert_exporter": "python",
   "pygments_lexer": "ipython3",
   "version": "3.11.2"
  },
  "orig_nbformat": 4,
  "vscode": {
   "interpreter": {
    "hash": "df373f8daa4863e48189e3ee1b9bdcc41be48fbce57baf3694a1e9c77405ba32"
   }
  }
 },
 "nbformat": 4,
 "nbformat_minor": 2
}
