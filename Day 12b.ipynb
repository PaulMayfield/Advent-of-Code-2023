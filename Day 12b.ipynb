{
 "cells": [
  {
   "cell_type": "markdown",
   "metadata": {},
   "source": [
    "This is someone else's code so I am not submitting the answer to the website.  This code is doing the search but prune as you go approach that I have been trying to think through but couldn't code correctly."
   ]
  },
  {
   "cell_type": "code",
   "execution_count": 8,
   "metadata": {},
   "outputs": [],
   "source": [
    "import requests\n",
    "import os\n",
    "\n",
    "Day = 12\n",
    "\n",
    "# get file from website using private session key stored in enviromental variables\n",
    "r = requests.get(\n",
    "            f'https://adventofcode.com/2023/day/'+str(Day)+'/input',\n",
    "            cookies={'session': os.getenv('AdventSessionKey')}\n",
    ")\n",
    "\n",
    "# read r.text\n",
    "data = r.text.strip().split('\\n')\n",
    "data = [x.split() for x in r.text.strip().split('\\n')]\n"
   ]
  },
  {
   "cell_type": "code",
   "execution_count": 11,
   "metadata": {},
   "outputs": [
    {
     "name": "stdout",
     "output_type": "stream",
     "text": [
      "7857 28606137449920\n"
     ]
    }
   ],
   "source": [
    "from functools import cache\n",
    "\n",
    "@cache\n",
    "def recurse(pattern, blocks, result=0):\n",
    "    if not blocks:\n",
    "        return '#' not in pattern\n",
    "    current_block, blocks = blocks[0], blocks[1:]\n",
    "    for i in range(len(pattern) - sum(blocks) - len(blocks) - current_block + 1):\n",
    "        if \"#\" in pattern[:i]:\n",
    "            break\n",
    "        if (next_index_in_pattern := i + current_block) <= len(pattern) and '.' not in pattern[i : next_index_in_pattern] and pattern[next_index_in_pattern : next_index_in_pattern + 1] != \"#\":\n",
    "            result += recurse(pattern[next_index_in_pattern + 1:], blocks)\n",
    "    return result\n",
    "\n",
    "\n",
    "part1, part2 = 0, 0\n",
    "for e, (pattern, blocks) in enumerate(data):\n",
    "    part1 += recurse(pattern, (blocks := tuple(map(int, blocks.split(\",\")))))\n",
    "    part2 += recurse(\"?\".join([pattern] * 5), blocks * 5)\n",
    "print(part1, part2)"
   ]
  }
 ],
 "metadata": {
  "kernelspec": {
   "display_name": "Python 3.9.12 ('base')",
   "language": "python",
   "name": "python3"
  },
  "language_info": {
   "codemirror_mode": {
    "name": "ipython",
    "version": 3
   },
   "file_extension": ".py",
   "mimetype": "text/x-python",
   "name": "python",
   "nbconvert_exporter": "python",
   "pygments_lexer": "ipython3",
   "version": "3.11.2"
  },
  "orig_nbformat": 4,
  "vscode": {
   "interpreter": {
    "hash": "df373f8daa4863e48189e3ee1b9bdcc41be48fbce57baf3694a1e9c77405ba32"
   }
  }
 },
 "nbformat": 4,
 "nbformat_minor": 2
}
