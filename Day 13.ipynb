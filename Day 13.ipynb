{
 "cells": [
  {
   "cell_type": "code",
   "execution_count": 19,
   "metadata": {},
   "outputs": [],
   "source": [
    "import requests\n",
    "import os\n",
    "\n",
    "Day = 13\n",
    "\n",
    "# get file from website using private session key stored in enviromental variables\n",
    "r = requests.get(\n",
    "            f'https://adventofcode.com/2023/day/'+str(Day)+'/input',\n",
    "            cookies={'session': os.getenv('AdventSessionKey')}\n",
    ")\n",
    "\n",
    "# read r.text\n",
    "blocks = r.text.strip().split('\\n\\n')\n"
   ]
  },
  {
   "cell_type": "code",
   "execution_count": 39,
   "metadata": {},
   "outputs": [],
   "source": [
    "def transpose(block):\n",
    "    return [''.join(row) for row in zip(*block)]\n",
    "\n",
    "def check_symmetry(block, smudge):\n",
    "\n",
    "    n = len(block[0])\n",
    "\n",
    "    for i in range(1,n):\n",
    "\n",
    "        if i*2 < n: # Check the left columns so the right will get trimmed\n",
    "            left_block = [row[:i][::-1] for row in block]  # reverse the left block\n",
    "            right_block = [row[i:i*2] for row in block]\n",
    "            \n",
    "        else: # Check the right columns so the left will get trimmed\n",
    "            left_block = [row[i-(n-i):i][::-1] for row in block]  # reverse the left block\n",
    "            right_block = [row[i:] for row in block]\n",
    "            \n",
    "        # Count the number of differing characters\n",
    "        differences = sum(l != r for l, r in zip(left_block, right_block))\n",
    "\n",
    "        if differences == smudge:\n",
    "            return i\n",
    "\n",
    "        \n",
    "    return -1 # Return -1 if no symmetry is found\n",
    "\n",
    "def find_symmetry_line(block, smudge):\n",
    "\n",
    "    symmetry_line = check_symmetry(block, smudge)\n",
    "    \n",
    "    # If no return, transpose the block and try again\n",
    "    if symmetry_line == -1:\n",
    "        block = transpose(block)\n",
    "        symmetry_line = check_symmetry(block, smudge)\n",
    "        # row reflections get multiplied by 100 in the problem\n",
    "        if symmetry_line != -1: # make sure you found a row\n",
    "            symmetry_line *= 100  \n",
    "\n",
    "    return symmetry_line  \n",
    "\n",
    "# # Tests:\n",
    "# block1 = [\n",
    "#     '#.##..##.',\n",
    "#     '..#.##.#.',\n",
    "#     '##......#',\n",
    "#     '##......#',\n",
    "#     '..#.##.#.',\n",
    "#     '..##..##.',\n",
    "#     '#.#.##.#.'\n",
    "# ]\n",
    "\n",
    "# block2 = [\n",
    "#     '#...##..#',\n",
    "#     '#....#..#',\n",
    "#     '..##..###',\n",
    "#     '#####.##.',\n",
    "#     '#####.##.',\n",
    "#     '..##..###',\n",
    "#     '#....#..#'\n",
    "# ]\n",
    "\n",
    "# print(find_symmetry_line(block1))  \n",
    "# print(find_symmetry_line(block2))  \n"
   ]
  },
  {
   "cell_type": "code",
   "execution_count": 42,
   "metadata": {},
   "outputs": [
    {
     "name": "stdout",
     "output_type": "stream",
     "text": [
      "Part 1 requires 0 smudges, so the sum of the reflection scores is 29130\n",
      "Part 2 requires 1 smudges, so the sum of the reflection scores is 33438\n"
     ]
    }
   ],
   "source": [
    "for part in [1,2]:\n",
    "\n",
    "    total = 0\n",
    "\n",
    "    # Check each Block\n",
    "    for  block in blocks:\n",
    "        block = block.split('\\n')  # split each block into rows\n",
    "        check = find_symmetry_line(block , part - 1) # send number of 'smudges' expected\n",
    "        if not check == -1:\n",
    "            total +=check\n",
    "\n",
    "    print(f'Part {part} requires {part -1} smudges, so the sum of the reflection scores is {total}')\n"
   ]
  },
  {
   "cell_type": "code",
   "execution_count": 46,
   "metadata": {},
   "outputs": [
    {
     "data": {
      "text/plain": [
       "[120, 60, 40, 30, 24]"
      ]
     },
     "execution_count": 46,
     "metadata": {},
     "output_type": "execute_result"
    }
   ],
   "source": [
    "import math\n",
    "# input\n",
    "test = [1,2,3,4,5]\n",
    "\n",
    "product = math.prod(test)\n",
    "\n",
    "[product//i for i in test]"
   ]
  }
 ],
 "metadata": {
  "kernelspec": {
   "display_name": "Python 3.9.12 ('base')",
   "language": "python",
   "name": "python3"
  },
  "language_info": {
   "codemirror_mode": {
    "name": "ipython",
    "version": 3
   },
   "file_extension": ".py",
   "mimetype": "text/x-python",
   "name": "python",
   "nbconvert_exporter": "python",
   "pygments_lexer": "ipython3",
   "version": "3.11.2"
  },
  "orig_nbformat": 4,
  "vscode": {
   "interpreter": {
    "hash": "df373f8daa4863e48189e3ee1b9bdcc41be48fbce57baf3694a1e9c77405ba32"
   }
  }
 },
 "nbformat": 4,
 "nbformat_minor": 2
}
