{
 "cells": [
  {
   "cell_type": "code",
   "execution_count": 146,
   "metadata": {},
   "outputs": [],
   "source": [
    "import requests\n",
    "import os\n",
    "\n",
    "Day = 14\n",
    "\n",
    "# get file from website using private session key stored in enviromental variables\n",
    "r = requests.get(\n",
    "            f'https://adventofcode.com/2023/day/'+str(Day)+'/input',\n",
    "            cookies={'session': os.getenv('AdventSessionKey')}\n",
    ")\n",
    "\n",
    "# read r.text\n",
    "data = r.text.strip().split('\\n')\n"
   ]
  },
  {
   "cell_type": "code",
   "execution_count": 157,
   "metadata": {},
   "outputs": [],
   "source": [
    "# Functions\n",
    "\n",
    "def count_Os(input_string):\n",
    "    # we are rotating the input becuase it is easier to work on rows\n",
    "    transposed = list(map(''.join, zip(*input_string)))\n",
    "\n",
    "    # Partition by hashes and count 'O's\n",
    "    counts = []\n",
    "    positions = []\n",
    "    \n",
    "    for line in transposed:\n",
    "        # split into groups and count O's each each group\n",
    "        groups = line.split('#') \n",
    "        counts.append([group.count('O') for group in groups])\n",
    "\n",
    "        # Calculate starting positions of the hashes\n",
    "        # This helps us rebuild the board later\n",
    "        pos = [i+1 for i, c in enumerate(line) if c == '#']\n",
    "        pos = [0] + pos  # Always start with a zero\n",
    "        positions.append(pos)\n",
    "\n",
    "    return counts, positions\n",
    "\n",
    "def build_board(counts, positions, column_length):\n",
    "    board = []\n",
    "    for count_list, position_list in zip(counts, positions):\n",
    "        column = ['.' for _ in range(column_length)]\n",
    "        for count, position in zip(count_list, position_list):\n",
    "            if position != 0:\n",
    "                column[position - 1] = '#'\n",
    "            for i in range(count):\n",
    "                column[position + i] = 'O'\n",
    "        board.append(''.join(column))\n",
    "    # Transpose the board to put columns side by side\n",
    "    transposed = list(map(list, zip(*board)))\n",
    "    # Join each row into a string\n",
    "    return [''.join(row) for row in transposed]\n",
    "\n",
    "def calculate_sum(board, column_length):\n",
    "    total = 0\n",
    "    for i, row in enumerate(board):\n",
    "        count_O = row.count('O')\n",
    "        total += count_O * (column_length - i)\n",
    "    return total\n",
    "\n",
    "def rotate_board(board):\n",
    "    # Rotate the board\n",
    "    rotated = list(map(''.join, zip(*board)))\n",
    "    # Reflect each row\n",
    "    return [row[::-1] for row in rotated]\n",
    "\n",
    "def do_one_cycle(board, column_length):\n",
    "\n",
    "    for i in range(4): # N, S, E, W\n",
    "\n",
    "        # get info to tilt the board\n",
    "        counts, positions = count_Os(board)\n",
    "        # tilt the board\n",
    "        board = build_board(counts, positions, column_length)\n",
    "        # Rotate the board\n",
    "        board = rotate_board(board)\n",
    "    \n",
    "    return board\n",
    "\n",
    "def find_cycle(board, column_length):\n",
    "    # Convert board to string\n",
    "    board_str = '\\n'.join(board)\n",
    "    \n",
    "    # Store each unique state and the step at which it was first seen\n",
    "    seen = {board_str: 0}\n",
    "    \n",
    "    for step in range(1, 1000000000):\n",
    "        # Do one cycle\n",
    "        board = do_one_cycle(board, column_length)\n",
    "        \n",
    "        # Convert board to string\n",
    "        board_str = '\\n'.join(board)\n",
    "                \n",
    "        # If the current state has been seen before, we've found a cycle\n",
    "        if board_str in seen:\n",
    "            cycle_length = step - seen[board_str] # seen board started the cycle\n",
    "            remaining_steps = (1000000000 - step) % cycle_length\n",
    "            final_board = [b for b, v in seen.items() if v == seen[board_str] + remaining_steps][0]\n",
    "            \n",
    "            return final_board.split('\\n')  # Convert final board back to list\n",
    "        \n",
    "        # Not seen yet, add to the seen list\n",
    "        seen[board_str] = step\n",
    "                \n",
    "    return board\n",
    "\n"
   ]
  },
  {
   "cell_type": "code",
   "execution_count": 144,
   "metadata": {},
   "outputs": [
    {
     "name": "stdout",
     "output_type": "stream",
     "text": [
      "Total: 136\n"
     ]
    }
   ],
   "source": [
    "# Test\n",
    "\n",
    "input_string = [\n",
    "'O....#....',\n",
    "'O.OO#....#',\n",
    "'.....##...',\n",
    "'OO.#O....O',\n",
    "'.O.....O#.',\n",
    "'O.#..O.#.#',\n",
    "'..O..#O..O',\n",
    "'.......O..',\n",
    "'#....###..',\n",
    "'#OO..#....'\n",
    "]\n",
    "\n",
    "# get info to tilt the board\n",
    "counts, positions = count_Os(input_string)\n",
    "\n",
    "column_length = len(input_string[0])  # Length of a column\n",
    "\n",
    "# tilt the board\n",
    "board = build_board(counts, positions, column_length)\n",
    "# print(board)\n",
    "\n",
    "total = calculate_sum(board, column_length)\n",
    "print(\"Total:\", total)\n",
    "\n",
    "# 136"
   ]
  },
  {
   "cell_type": "code",
   "execution_count": 148,
   "metadata": {},
   "outputs": [
    {
     "name": "stdout",
     "output_type": "stream",
     "text": [
      "Total: 109755\n"
     ]
    }
   ],
   "source": [
    "# Part 1\n",
    "\n",
    "# get info to tilt the board\n",
    "counts, positions = count_Os(data)\n",
    "\n",
    "# Length of a column\n",
    "column_length = len(data[0])\n",
    "\n",
    "# tilt the board\n",
    "board = build_board(counts, positions, column_length)\n",
    "# print(board)\n",
    "\n",
    "total = calculate_sum(board, column_length)\n",
    "print(\"Total:\", total)\n",
    "\n",
    "# 109755\n"
   ]
  },
  {
   "cell_type": "code",
   "execution_count": 158,
   "metadata": {},
   "outputs": [
    {
     "name": "stdout",
     "output_type": "stream",
     "text": [
      "Total: 64\n"
     ]
    }
   ],
   "source": [
    "# Test\n",
    "input_string = [\n",
    "'O....#....',\n",
    "'O.OO#....#',\n",
    "'.....##...',\n",
    "'OO.#O....O',\n",
    "'.O.....O#.',\n",
    "'O.#..O.#.#',\n",
    "'..O..#O..O',\n",
    "'.......O..',\n",
    "'#....###..',\n",
    "'#OO..#....'\n",
    "]\n",
    "\n",
    "column_length = len(input_string[0])  # Length of a column\n",
    "\n",
    "final_board = find_cycle(input_string,column_length)\n",
    "total = calculate_sum(final_board,column_length)\n",
    "print(\"Total:\", total)\n",
    "\n",
    "# 64"
   ]
  },
  {
   "cell_type": "code",
   "execution_count": 159,
   "metadata": {},
   "outputs": [
    {
     "name": "stdout",
     "output_type": "stream",
     "text": [
      "Total: 90928\n"
     ]
    }
   ],
   "source": [
    "# Part 2\n",
    "\n",
    "column_length = len(data[0])  # Length of a column\n",
    "\n",
    "final_board = find_cycle(data,column_length)\n",
    "total = calculate_sum(final_board,column_length)\n",
    "print(\"Total:\", total)"
   ]
  }
 ],
 "metadata": {
  "kernelspec": {
   "display_name": "Python 3.9.12 ('base')",
   "language": "python",
   "name": "python3"
  },
  "language_info": {
   "codemirror_mode": {
    "name": "ipython",
    "version": 3
   },
   "file_extension": ".py",
   "mimetype": "text/x-python",
   "name": "python",
   "nbconvert_exporter": "python",
   "pygments_lexer": "ipython3",
   "version": "3.11.2"
  },
  "orig_nbformat": 4,
  "vscode": {
   "interpreter": {
    "hash": "df373f8daa4863e48189e3ee1b9bdcc41be48fbce57baf3694a1e9c77405ba32"
   }
  }
 },
 "nbformat": 4,
 "nbformat_minor": 2
}
