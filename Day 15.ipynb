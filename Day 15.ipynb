{
 "cells": [
  {
   "cell_type": "code",
   "execution_count": 39,
   "metadata": {},
   "outputs": [],
   "source": [
    "import requests\n",
    "import os\n",
    "\n",
    "Day = 15\n",
    "\n",
    "# get file from website using private session key stored in enviromental variables\n",
    "r = requests.get(\n",
    "            f'https://adventofcode.com/2023/day/'+str(Day)+'/input',\n",
    "            cookies={'session': os.getenv('AdventSessionKey')}\n",
    ")\n",
    "\n",
    "# read r.text\n",
    "initialization_sequence = r.text.strip().split(',')\n"
   ]
  },
  {
   "cell_type": "code",
   "execution_count": 26,
   "metadata": {},
   "outputs": [],
   "source": [
    "def myhash(input):\n",
    "    \n",
    "    current_value = 0\n",
    "\n",
    "    for char in input:\n",
    "       # The steps the reindeer gave me\n",
    "       current_value += ord(char)\n",
    "       current_value *= 17\n",
    "       current_value = current_value % 256 \n",
    "\n",
    "    return current_value"
   ]
  },
  {
   "cell_type": "code",
   "execution_count": 27,
   "metadata": {},
   "outputs": [
    {
     "name": "stdout",
     "output_type": "stream",
     "text": [
      "52\n"
     ]
    }
   ],
   "source": [
    "test = 'HASH'\n",
    "\n",
    "print(myhash(test))"
   ]
  },
  {
   "cell_type": "code",
   "execution_count": 28,
   "metadata": {},
   "outputs": [
    {
     "name": "stdout",
     "output_type": "stream",
     "text": [
      "516804\n"
     ]
    }
   ],
   "source": [
    "sums = 0\n",
    "\n",
    "for sequence in initialization_sequence:\n",
    "    sums += myhash(sequence)\n",
    "\n",
    "print(sums)\n",
    "\n",
    "# 516804"
   ]
  },
  {
   "cell_type": "code",
   "execution_count": 38,
   "metadata": {},
   "outputs": [
    {
     "name": "stdout",
     "output_type": "stream",
     "text": [
      "145\n"
     ]
    }
   ],
   "source": [
    "# Test Part 2\n",
    "\n",
    "test = 'rn=1,cm-,qp=3,cm=2,qp-,pc=4,ot=9,ab=5,pc-,pc=6,ot=7'\n",
    "initialization_sequence = test.strip().split(',')\n",
    "\n",
    "# Initialize the structure\n",
    "boxes = {i: [] for i in range(256)}\n",
    "\n",
    "for sequence in initialization_sequence:\n",
    "    \n",
    "    # if it a dash, take lens out of the box if there\n",
    "    if sequence[-1] =='-':\n",
    "        # which lens?\n",
    "        lens = sequence[:-1]\n",
    "        # which box?\n",
    "        box = myhash(lens)\n",
    "        # remove it IF it's in the box, don't care what size\n",
    "        boxes[box] = [item for item in boxes[box] if item[0] != lens]\n",
    "    \n",
    "    else: # not a dash, so it's an '='\n",
    "        lens, size = sequence.split('=')\n",
    "        # which box?\n",
    "        box = myhash(lens)\n",
    "        # if the lens label is in the box update the size\n",
    "        for i, item in enumerate(boxes[box]):\n",
    "            if item[0] == lens:\n",
    "                boxes[box][i] = (lens, size)\n",
    "                break\n",
    "        # else add the (lens,size) to the end of the items in the box\n",
    "        else: \n",
    "            boxes[box].append((lens, size))\n",
    "\n",
    "# Summing logic given by reindeer, but by box since labels did not actually matter in the sum logic\n",
    "total = 0\n",
    "for box, items in boxes.items():\n",
    "    item_sum = sum(int(item[1]) * (i+1) for i, item in enumerate(items))\n",
    "    total += (box + 1) * item_sum\n",
    "print(total)\n",
    "\n",
    "# 145"
   ]
  },
  {
   "cell_type": "code",
   "execution_count": 40,
   "metadata": {},
   "outputs": [
    {
     "name": "stdout",
     "output_type": "stream",
     "text": [
      "231844\n"
     ]
    }
   ],
   "source": [
    "# Part 2\n",
    "\n",
    "# Initialize the structure\n",
    "boxes = {i: [] for i in range(256)}\n",
    "\n",
    "for sequence in initialization_sequence:\n",
    "    \n",
    "    # if it a dash, take lens out of the box if there\n",
    "    if sequence[-1] =='-':\n",
    "        # which lens?\n",
    "        lens = sequence[:-1]\n",
    "        # which box?\n",
    "        box = myhash(lens)\n",
    "        # remove it IF it's in the box, don't care what size\n",
    "        boxes[box] = [item for item in boxes[box] if item[0] != lens]\n",
    "    \n",
    "    else: # not a dash, so it's an '='\n",
    "        lens, size = sequence.split('=')\n",
    "        # which box?\n",
    "        box = myhash(lens)\n",
    "        # if the lens label is in the box update the size\n",
    "        for i, item in enumerate(boxes[box]):\n",
    "            if item[0] == lens:\n",
    "                boxes[box][i] = (lens, size)\n",
    "                break\n",
    "        # else add the (lens,size) to the end of the items in the box\n",
    "        else: \n",
    "            boxes[box].append((lens, size))\n",
    "\n",
    "# Summing logic given by reindeer, but by box since labels did not actually matter in the sum logic\n",
    "total = 0\n",
    "for box, items in boxes.items():\n",
    "    item_sum = sum(int(item[1]) * (i+1) for i, item in enumerate(items))\n",
    "    total += (box + 1) * item_sum\n",
    "print(total)\n",
    "\n",
    "# 231844"
   ]
  }
 ],
 "metadata": {
  "kernelspec": {
   "display_name": "Python 3.9.12 ('base')",
   "language": "python",
   "name": "python3"
  },
  "language_info": {
   "codemirror_mode": {
    "name": "ipython",
    "version": 3
   },
   "file_extension": ".py",
   "mimetype": "text/x-python",
   "name": "python",
   "nbconvert_exporter": "python",
   "pygments_lexer": "ipython3",
   "version": "3.11.2"
  },
  "orig_nbformat": 4,
  "vscode": {
   "interpreter": {
    "hash": "df373f8daa4863e48189e3ee1b9bdcc41be48fbce57baf3694a1e9c77405ba32"
   }
  }
 },
 "nbformat": 4,
 "nbformat_minor": 2
}
