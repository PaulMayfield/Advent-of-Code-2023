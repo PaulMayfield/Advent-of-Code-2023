{
 "cells": [
  {
   "cell_type": "code",
   "execution_count": 4,
   "metadata": {},
   "outputs": [],
   "source": [
    "import requests\n",
    "import os\n",
    "\n",
    "Day = 16\n",
    "\n",
    "# get file from website using private session key stored in enviromental variables\n",
    "r = requests.get(\n",
    "            f'https://adventofcode.com/2023/day/'+str(Day)+'/input',\n",
    "            cookies={'session': os.getenv('AdventSessionKey')}\n",
    ")\n",
    "\n",
    "# read r.text\n",
    "grid = r.text.strip().split('\\n')\n"
   ]
  },
  {
   "cell_type": "code",
   "execution_count": 1,
   "metadata": {},
   "outputs": [],
   "source": [
    "def follow_beam(grid, beams):\n",
    "    directions = {'right': (0, 1), 'down': (1, 0), 'left': (0, -1), 'up': (-1, 0)}\n",
    "    mirrors = {'/': {'up': 'right', 'right': 'up', 'down': 'left', 'left': 'down'},\n",
    "               '\\\\': {'up': 'left', 'right': 'down', 'down': 'right', 'left': 'up'}}\n",
    "    splitters = {'|': {'up': 'up', 'right': ['up', 'down'], 'down': 'down', 'left': ['up', 'down']},\n",
    "                 '-': {'up': ['left', 'right'], 'right': 'right', 'down': ['left', 'right'], 'left': 'left'}}\n",
    "    \n",
    "    # all the beams ever created, so we don't create duplicates\n",
    "    master_catalog = set()\n",
    "    \n",
    "    output_grid = [['.' for _ in range(len(grid[0]))] for _ in range(len(grid))]\n",
    "\n",
    "    while beams:\n",
    "\n",
    "        # Store a list of new beams during each \"beams\" for loop\n",
    "        new_beams = []\n",
    "\n",
    "        for beam in beams:\n",
    "\n",
    "            # start next beam\n",
    "            position, direction = beam['position'], beam['direction']\n",
    "            End_Beam = False\n",
    "\n",
    "            # Debug\n",
    "            # print(f\"Beam Position: {position}, Beam Direction: {direction}\")  \n",
    "\n",
    "            # while on the grid and still going\n",
    "            while 0 <= position[0] < len(grid) and 0 <= position[1] < len(grid[0]) and not End_Beam:\n",
    "                \n",
    "                # energize the output grid\n",
    "                output_grid[position[0]][position[1]] = '#'\n",
    "                \n",
    "                # update the direction(s) based on the symbol\n",
    "                if grid[position[0]][position[1]] in mirrors:\n",
    "                    direction = mirrors[grid[position[0]][position[1]]][direction]\n",
    "                elif grid[position[0]][position[1]] in splitters:\n",
    "                    direction = splitters[grid[position[0]][position[1]]][direction]\n",
    "                \n",
    "                # If the beam split, make two new beams and end the current one\n",
    "                if isinstance(direction, list):\n",
    "                    \n",
    "                    # end the current beam\n",
    "                    End_Beam = True\n",
    "                    \n",
    "                    # Attempt to make two new beams\n",
    "                    for dir in direction:\n",
    "                        # Move one step in given direction before storing\n",
    "                        new_position = [position[0] + directions[dir][0], position[1] + directions[dir][1]]\n",
    "                        \n",
    "                        # Make sure the beam is on the grid beofre storing\n",
    "                        if 0 <= new_position[0] < len(grid) and 0 <= new_position[1] < len(grid[0]):\n",
    "                            new_beam = {'position': new_position, 'direction': dir}\n",
    "                            # also, make sure you didn't already store the same beam\n",
    "                            if str(new_beam) not in master_catalog:\n",
    "                                # add to  set of beams for the next while loop\n",
    "                                new_beams.append(new_beam)\n",
    "                                # add to the master catalog\n",
    "                                master_catalog.add(str(new_beam))\n",
    "                \n",
    "                else:\n",
    "                    # Beam was not split; move beam, update the beam position and direction\n",
    "                    position[0] += directions[direction][0]\n",
    "                    position[1] += directions[direction][1]\n",
    "    \n",
    "        # for loop is done, give the new set of beams to the while loop\n",
    "        beams = new_beams\n",
    "\n",
    "    return output_grid\n"
   ]
  },
  {
   "cell_type": "code",
   "execution_count": 2,
   "metadata": {},
   "outputs": [
    {
     "name": "stdout",
     "output_type": "stream",
     "text": [
      "\n",
      "Part 1: Number of energized tiles: 46\n"
     ]
    }
   ],
   "source": [
    "# # Test \n",
    "# grid = [\n",
    "#     list('.|...\\\\....'),\n",
    "#     list('|.-.\\\\.....'),\n",
    "#     list('.....|-...'),\n",
    "#     list('........|.'),\n",
    "#     list('..........'),\n",
    "#     list('.........\\\\'),\n",
    "#     list('..../.\\\\\\\\..'),\n",
    "#     list('.-.-/..|..'),\n",
    "#     list('.|....-|\\\\.'),\n",
    "#     list('..//.|....')\n",
    "# ]\n",
    "\n",
    "# Part 1\n",
    "beams = [{'position': [0, 0], 'direction': 'right'}]\n",
    "Energized_grid = follow_beam(grid, beams)\n",
    "\n",
    "hash_count = 0\n",
    "\n",
    "for row in Energized_grid:\n",
    "    hash_count += row.count('#')   \n",
    "\n",
    "print(f\"\\nPart 1: Number of energized tiles: {hash_count}\")\n",
    "\n",
    "# 8034\n"
   ]
  },
  {
   "cell_type": "code",
   "execution_count": 5,
   "metadata": {},
   "outputs": [
    {
     "name": "stdout",
     "output_type": "stream",
     "text": [
      "Largest hash count: 8225\n"
     ]
    }
   ],
   "source": [
    "# Part 2 \n",
    "\n",
    "def test_all_positions(grid):\n",
    "    max_hash_count = 0\n",
    "    directions = ['right', 'left', 'down', 'up']\n",
    "    edges = [range(len(grid)), range(len(grid[0])-1, -1, -1), range(len(grid[0])), range(len(grid)-1, -1, -1)]\n",
    "    for direction, edge in zip(directions, edges):\n",
    "        for i in edge:\n",
    "            if direction == 'right':\n",
    "                position = [i, 0]\n",
    "            elif direction == 'left':\n",
    "                position = [i, len(grid[0])-1]\n",
    "            elif direction == 'down':\n",
    "                position = [0, i]\n",
    "            elif direction == 'up':\n",
    "                position = [len(grid)-1, i]\n",
    "            beams = [{'position': position, 'direction': direction}]\n",
    "            Energized_grid = follow_beam(grid, beams)\n",
    "            hash_count = sum(row.count('#') for row in Energized_grid)\n",
    "            if hash_count > max_hash_count:\n",
    "                max_hash_count = hash_count\n",
    "    return max_hash_count\n",
    "\n",
    "print(f\"Largest hash count: {test_all_positions(grid)}\")\n",
    "\n",
    "# 8225"
   ]
  }
 ],
 "metadata": {
  "kernelspec": {
   "display_name": "Python 3.9.12 ('base')",
   "language": "python",
   "name": "python3"
  },
  "language_info": {
   "codemirror_mode": {
    "name": "ipython",
    "version": 3
   },
   "file_extension": ".py",
   "mimetype": "text/x-python",
   "name": "python",
   "nbconvert_exporter": "python",
   "pygments_lexer": "ipython3",
   "version": "3.11.2"
  },
  "orig_nbformat": 4,
  "vscode": {
   "interpreter": {
    "hash": "df373f8daa4863e48189e3ee1b9bdcc41be48fbce57baf3694a1e9c77405ba32"
   }
  }
 },
 "nbformat": 4,
 "nbformat_minor": 2
}
